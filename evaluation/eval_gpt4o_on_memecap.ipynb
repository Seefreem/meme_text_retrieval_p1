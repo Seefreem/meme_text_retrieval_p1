{
 "cells": [
  {
   "cell_type": "code",
   "execution_count": 1,
   "metadata": {},
   "outputs": [
    {
     "name": "stdout",
     "output_type": "stream",
     "text": [
      "Requirement already satisfied: evaluate in /home/shiling/anaconda3/envs/llava/lib/python3.10/site-packages (0.4.2)\n",
      "Requirement already satisfied: datasets>=2.0.0 in /home/shiling/anaconda3/envs/llava/lib/python3.10/site-packages (from evaluate) (2.20.0)\n",
      "Requirement already satisfied: numpy>=1.17 in /home/shiling/anaconda3/envs/llava/lib/python3.10/site-packages (from evaluate) (1.26.4)\n",
      "Requirement already satisfied: dill in /home/shiling/anaconda3/envs/llava/lib/python3.10/site-packages (from evaluate) (0.3.8)\n",
      "Requirement already satisfied: pandas in /home/shiling/anaconda3/envs/llava/lib/python3.10/site-packages (from evaluate) (2.2.2)\n",
      "Requirement already satisfied: requests>=2.19.0 in /home/shiling/anaconda3/envs/llava/lib/python3.10/site-packages (from evaluate) (2.32.3)\n",
      "Requirement already satisfied: tqdm>=4.62.1 in /home/shiling/anaconda3/envs/llava/lib/python3.10/site-packages (from evaluate) (4.66.4)\n",
      "Requirement already satisfied: xxhash in /home/shiling/anaconda3/envs/llava/lib/python3.10/site-packages (from evaluate) (3.4.1)\n",
      "Requirement already satisfied: multiprocess in /home/shiling/anaconda3/envs/llava/lib/python3.10/site-packages (from evaluate) (0.70.16)\n",
      "Requirement already satisfied: fsspec>=2021.05.0 in /home/shiling/anaconda3/envs/llava/lib/python3.10/site-packages (from fsspec[http]>=2021.05.0->evaluate) (2024.5.0)\n",
      "Requirement already satisfied: huggingface-hub>=0.7.0 in /home/shiling/anaconda3/envs/llava/lib/python3.10/site-packages (from evaluate) (0.23.4)\n",
      "Requirement already satisfied: packaging in /home/shiling/anaconda3/envs/llava/lib/python3.10/site-packages (from evaluate) (24.1)\n",
      "Requirement already satisfied: filelock in /home/shiling/anaconda3/envs/llava/lib/python3.10/site-packages (from datasets>=2.0.0->evaluate) (3.15.4)\n",
      "Requirement already satisfied: pyarrow>=15.0.0 in /home/shiling/anaconda3/envs/llava/lib/python3.10/site-packages (from datasets>=2.0.0->evaluate) (16.1.0)\n",
      "Requirement already satisfied: pyarrow-hotfix in /home/shiling/anaconda3/envs/llava/lib/python3.10/site-packages (from datasets>=2.0.0->evaluate) (0.6)\n",
      "Requirement already satisfied: aiohttp in /home/shiling/anaconda3/envs/llava/lib/python3.10/site-packages (from datasets>=2.0.0->evaluate) (3.9.5)\n",
      "Requirement already satisfied: pyyaml>=5.1 in /home/shiling/anaconda3/envs/llava/lib/python3.10/site-packages (from datasets>=2.0.0->evaluate) (6.0.1)\n",
      "Requirement already satisfied: typing-extensions>=3.7.4.3 in /home/shiling/anaconda3/envs/llava/lib/python3.10/site-packages (from huggingface-hub>=0.7.0->evaluate) (4.12.2)\n",
      "Requirement already satisfied: charset-normalizer<4,>=2 in /home/shiling/anaconda3/envs/llava/lib/python3.10/site-packages (from requests>=2.19.0->evaluate) (3.3.2)\n",
      "Requirement already satisfied: idna<4,>=2.5 in /home/shiling/anaconda3/envs/llava/lib/python3.10/site-packages (from requests>=2.19.0->evaluate) (3.7)\n",
      "Requirement already satisfied: urllib3<3,>=1.21.1 in /home/shiling/anaconda3/envs/llava/lib/python3.10/site-packages (from requests>=2.19.0->evaluate) (2.2.2)\n",
      "Requirement already satisfied: certifi>=2017.4.17 in /home/shiling/anaconda3/envs/llava/lib/python3.10/site-packages (from requests>=2.19.0->evaluate) (2024.6.2)\n",
      "Requirement already satisfied: python-dateutil>=2.8.2 in /home/shiling/anaconda3/envs/llava/lib/python3.10/site-packages (from pandas->evaluate) (2.9.0)\n",
      "Requirement already satisfied: pytz>=2020.1 in /home/shiling/anaconda3/envs/llava/lib/python3.10/site-packages (from pandas->evaluate) (2024.1)\n",
      "Requirement already satisfied: tzdata>=2022.7 in /home/shiling/anaconda3/envs/llava/lib/python3.10/site-packages (from pandas->evaluate) (2024.1)\n",
      "Requirement already satisfied: aiosignal>=1.1.2 in /home/shiling/anaconda3/envs/llava/lib/python3.10/site-packages (from aiohttp->datasets>=2.0.0->evaluate) (1.3.1)\n",
      "Requirement already satisfied: attrs>=17.3.0 in /home/shiling/anaconda3/envs/llava/lib/python3.10/site-packages (from aiohttp->datasets>=2.0.0->evaluate) (23.2.0)\n",
      "Requirement already satisfied: frozenlist>=1.1.1 in /home/shiling/anaconda3/envs/llava/lib/python3.10/site-packages (from aiohttp->datasets>=2.0.0->evaluate) (1.4.1)\n",
      "Requirement already satisfied: multidict<7.0,>=4.5 in /home/shiling/anaconda3/envs/llava/lib/python3.10/site-packages (from aiohttp->datasets>=2.0.0->evaluate) (6.0.5)\n",
      "Requirement already satisfied: yarl<2.0,>=1.0 in /home/shiling/anaconda3/envs/llava/lib/python3.10/site-packages (from aiohttp->datasets>=2.0.0->evaluate) (1.9.4)\n",
      "Requirement already satisfied: async-timeout<5.0,>=4.0 in /home/shiling/anaconda3/envs/llava/lib/python3.10/site-packages (from aiohttp->datasets>=2.0.0->evaluate) (4.0.3)\n",
      "Requirement already satisfied: six>=1.5 in /home/shiling/anaconda3/envs/llava/lib/python3.10/site-packages (from python-dateutil>=2.8.2->pandas->evaluate) (1.16.0)\n",
      "\n",
      "\u001b[1m[\u001b[0m\u001b[34;49mnotice\u001b[0m\u001b[1;39;49m]\u001b[0m\u001b[39;49m A new release of pip is available: \u001b[0m\u001b[31;49m24.1\u001b[0m\u001b[39;49m -> \u001b[0m\u001b[32;49m24.1.2\u001b[0m\n",
      "\u001b[1m[\u001b[0m\u001b[34;49mnotice\u001b[0m\u001b[1;39;49m]\u001b[0m\u001b[39;49m To update, run: \u001b[0m\u001b[32;49mpip install --upgrade pip\u001b[0m\n",
      "Requirement already satisfied: bert_score in /home/shiling/anaconda3/envs/llava/lib/python3.10/site-packages (0.3.13)\n",
      "Requirement already satisfied: torch>=1.0.0 in /home/shiling/anaconda3/envs/llava/lib/python3.10/site-packages (from bert_score) (2.1.2)\n",
      "Requirement already satisfied: pandas>=1.0.1 in /home/shiling/anaconda3/envs/llava/lib/python3.10/site-packages (from bert_score) (2.2.2)\n",
      "Requirement already satisfied: transformers>=3.0.0 in /home/shiling/anaconda3/envs/llava/lib/python3.10/site-packages (from bert_score) (4.37.2)\n",
      "Requirement already satisfied: numpy in /home/shiling/anaconda3/envs/llava/lib/python3.10/site-packages (from bert_score) (1.26.4)\n",
      "Requirement already satisfied: requests in /home/shiling/anaconda3/envs/llava/lib/python3.10/site-packages (from bert_score) (2.32.3)\n",
      "Requirement already satisfied: tqdm>=4.31.1 in /home/shiling/anaconda3/envs/llava/lib/python3.10/site-packages (from bert_score) (4.66.4)\n",
      "Requirement already satisfied: matplotlib in /home/shiling/anaconda3/envs/llava/lib/python3.10/site-packages (from bert_score) (3.9.0)\n",
      "Requirement already satisfied: packaging>=20.9 in /home/shiling/anaconda3/envs/llava/lib/python3.10/site-packages (from bert_score) (24.1)\n",
      "Requirement already satisfied: python-dateutil>=2.8.2 in /home/shiling/anaconda3/envs/llava/lib/python3.10/site-packages (from pandas>=1.0.1->bert_score) (2.9.0)\n",
      "Requirement already satisfied: pytz>=2020.1 in /home/shiling/anaconda3/envs/llava/lib/python3.10/site-packages (from pandas>=1.0.1->bert_score) (2024.1)\n",
      "Requirement already satisfied: tzdata>=2022.7 in /home/shiling/anaconda3/envs/llava/lib/python3.10/site-packages (from pandas>=1.0.1->bert_score) (2024.1)\n",
      "Requirement already satisfied: filelock in /home/shiling/anaconda3/envs/llava/lib/python3.10/site-packages (from torch>=1.0.0->bert_score) (3.15.4)\n",
      "Requirement already satisfied: typing-extensions in /home/shiling/anaconda3/envs/llava/lib/python3.10/site-packages (from torch>=1.0.0->bert_score) (4.12.2)\n",
      "Requirement already satisfied: sympy in /home/shiling/anaconda3/envs/llava/lib/python3.10/site-packages (from torch>=1.0.0->bert_score) (1.12.1)\n",
      "Requirement already satisfied: networkx in /home/shiling/anaconda3/envs/llava/lib/python3.10/site-packages (from torch>=1.0.0->bert_score) (3.3)\n",
      "Requirement already satisfied: jinja2 in /home/shiling/anaconda3/envs/llava/lib/python3.10/site-packages (from torch>=1.0.0->bert_score) (3.1.4)\n",
      "Requirement already satisfied: fsspec in /home/shiling/anaconda3/envs/llava/lib/python3.10/site-packages (from torch>=1.0.0->bert_score) (2024.5.0)\n",
      "Requirement already satisfied: nvidia-cuda-nvrtc-cu12==12.1.105 in /home/shiling/anaconda3/envs/llava/lib/python3.10/site-packages (from torch>=1.0.0->bert_score) (12.1.105)\n",
      "Requirement already satisfied: nvidia-cuda-runtime-cu12==12.1.105 in /home/shiling/anaconda3/envs/llava/lib/python3.10/site-packages (from torch>=1.0.0->bert_score) (12.1.105)\n",
      "Requirement already satisfied: nvidia-cuda-cupti-cu12==12.1.105 in /home/shiling/anaconda3/envs/llava/lib/python3.10/site-packages (from torch>=1.0.0->bert_score) (12.1.105)\n",
      "Requirement already satisfied: nvidia-cudnn-cu12==8.9.2.26 in /home/shiling/anaconda3/envs/llava/lib/python3.10/site-packages (from torch>=1.0.0->bert_score) (8.9.2.26)\n",
      "Requirement already satisfied: nvidia-cublas-cu12==12.1.3.1 in /home/shiling/anaconda3/envs/llava/lib/python3.10/site-packages (from torch>=1.0.0->bert_score) (12.1.3.1)\n",
      "Requirement already satisfied: nvidia-cufft-cu12==11.0.2.54 in /home/shiling/anaconda3/envs/llava/lib/python3.10/site-packages (from torch>=1.0.0->bert_score) (11.0.2.54)\n",
      "Requirement already satisfied: nvidia-curand-cu12==10.3.2.106 in /home/shiling/anaconda3/envs/llava/lib/python3.10/site-packages (from torch>=1.0.0->bert_score) (10.3.2.106)\n",
      "Requirement already satisfied: nvidia-cusolver-cu12==11.4.5.107 in /home/shiling/anaconda3/envs/llava/lib/python3.10/site-packages (from torch>=1.0.0->bert_score) (11.4.5.107)\n",
      "Requirement already satisfied: nvidia-cusparse-cu12==12.1.0.106 in /home/shiling/anaconda3/envs/llava/lib/python3.10/site-packages (from torch>=1.0.0->bert_score) (12.1.0.106)\n",
      "Requirement already satisfied: nvidia-nccl-cu12==2.18.1 in /home/shiling/anaconda3/envs/llava/lib/python3.10/site-packages (from torch>=1.0.0->bert_score) (2.18.1)\n",
      "Requirement already satisfied: nvidia-nvtx-cu12==12.1.105 in /home/shiling/anaconda3/envs/llava/lib/python3.10/site-packages (from torch>=1.0.0->bert_score) (12.1.105)\n",
      "Requirement already satisfied: triton==2.1.0 in /home/shiling/anaconda3/envs/llava/lib/python3.10/site-packages (from torch>=1.0.0->bert_score) (2.1.0)\n",
      "Requirement already satisfied: nvidia-nvjitlink-cu12 in /home/shiling/anaconda3/envs/llava/lib/python3.10/site-packages (from nvidia-cusolver-cu12==11.4.5.107->torch>=1.0.0->bert_score) (12.5.40)\n",
      "Requirement already satisfied: huggingface-hub<1.0,>=0.19.3 in /home/shiling/anaconda3/envs/llava/lib/python3.10/site-packages (from transformers>=3.0.0->bert_score) (0.23.4)\n",
      "Requirement already satisfied: pyyaml>=5.1 in /home/shiling/anaconda3/envs/llava/lib/python3.10/site-packages (from transformers>=3.0.0->bert_score) (6.0.1)\n",
      "Requirement already satisfied: regex!=2019.12.17 in /home/shiling/anaconda3/envs/llava/lib/python3.10/site-packages (from transformers>=3.0.0->bert_score) (2024.5.15)\n",
      "Requirement already satisfied: tokenizers<0.19,>=0.14 in /home/shiling/anaconda3/envs/llava/lib/python3.10/site-packages (from transformers>=3.0.0->bert_score) (0.15.1)\n",
      "Requirement already satisfied: safetensors>=0.4.1 in /home/shiling/anaconda3/envs/llava/lib/python3.10/site-packages (from transformers>=3.0.0->bert_score) (0.4.3)\n",
      "Requirement already satisfied: contourpy>=1.0.1 in /home/shiling/anaconda3/envs/llava/lib/python3.10/site-packages (from matplotlib->bert_score) (1.2.1)\n",
      "Requirement already satisfied: cycler>=0.10 in /home/shiling/anaconda3/envs/llava/lib/python3.10/site-packages (from matplotlib->bert_score) (0.12.1)\n",
      "Requirement already satisfied: fonttools>=4.22.0 in /home/shiling/anaconda3/envs/llava/lib/python3.10/site-packages (from matplotlib->bert_score) (4.53.0)\n",
      "Requirement already satisfied: kiwisolver>=1.3.1 in /home/shiling/anaconda3/envs/llava/lib/python3.10/site-packages (from matplotlib->bert_score) (1.4.5)\n",
      "Requirement already satisfied: pillow>=8 in /home/shiling/anaconda3/envs/llava/lib/python3.10/site-packages (from matplotlib->bert_score) (10.3.0)\n",
      "Requirement already satisfied: pyparsing>=2.3.1 in /home/shiling/anaconda3/envs/llava/lib/python3.10/site-packages (from matplotlib->bert_score) (3.1.2)\n",
      "Requirement already satisfied: charset-normalizer<4,>=2 in /home/shiling/anaconda3/envs/llava/lib/python3.10/site-packages (from requests->bert_score) (3.3.2)\n",
      "Requirement already satisfied: idna<4,>=2.5 in /home/shiling/anaconda3/envs/llava/lib/python3.10/site-packages (from requests->bert_score) (3.7)\n",
      "Requirement already satisfied: urllib3<3,>=1.21.1 in /home/shiling/anaconda3/envs/llava/lib/python3.10/site-packages (from requests->bert_score) (2.2.2)\n",
      "Requirement already satisfied: certifi>=2017.4.17 in /home/shiling/anaconda3/envs/llava/lib/python3.10/site-packages (from requests->bert_score) (2024.6.2)\n",
      "Requirement already satisfied: six>=1.5 in /home/shiling/anaconda3/envs/llava/lib/python3.10/site-packages (from python-dateutil>=2.8.2->pandas>=1.0.1->bert_score) (1.16.0)\n",
      "Requirement already satisfied: MarkupSafe>=2.0 in /home/shiling/anaconda3/envs/llava/lib/python3.10/site-packages (from jinja2->torch>=1.0.0->bert_score) (2.1.5)\n",
      "Requirement already satisfied: mpmath<1.4.0,>=1.1.0 in /home/shiling/anaconda3/envs/llava/lib/python3.10/site-packages (from sympy->torch>=1.0.0->bert_score) (1.3.0)\n",
      "\n",
      "\u001b[1m[\u001b[0m\u001b[34;49mnotice\u001b[0m\u001b[1;39;49m]\u001b[0m\u001b[39;49m A new release of pip is available: \u001b[0m\u001b[31;49m24.1\u001b[0m\u001b[39;49m -> \u001b[0m\u001b[32;49m24.1.2\u001b[0m\n",
      "\u001b[1m[\u001b[0m\u001b[34;49mnotice\u001b[0m\u001b[1;39;49m]\u001b[0m\u001b[39;49m To update, run: \u001b[0m\u001b[32;49mpip install --upgrade pip\u001b[0m\n",
      "Requirement already satisfied: sacrebleu in /home/shiling/anaconda3/envs/llava/lib/python3.10/site-packages (2.4.2)\n",
      "Requirement already satisfied: portalocker in /home/shiling/anaconda3/envs/llava/lib/python3.10/site-packages (from sacrebleu) (2.10.0)\n",
      "Requirement already satisfied: regex in /home/shiling/anaconda3/envs/llava/lib/python3.10/site-packages (from sacrebleu) (2024.5.15)\n",
      "Requirement already satisfied: tabulate>=0.8.9 in /home/shiling/anaconda3/envs/llava/lib/python3.10/site-packages (from sacrebleu) (0.9.0)\n",
      "Requirement already satisfied: numpy>=1.17 in /home/shiling/anaconda3/envs/llava/lib/python3.10/site-packages (from sacrebleu) (1.26.4)\n",
      "Requirement already satisfied: colorama in /home/shiling/anaconda3/envs/llava/lib/python3.10/site-packages (from sacrebleu) (0.4.6)\n",
      "Requirement already satisfied: lxml in /home/shiling/anaconda3/envs/llava/lib/python3.10/site-packages (from sacrebleu) (5.2.2)\n",
      "\n",
      "\u001b[1m[\u001b[0m\u001b[34;49mnotice\u001b[0m\u001b[1;39;49m]\u001b[0m\u001b[39;49m A new release of pip is available: \u001b[0m\u001b[31;49m24.1\u001b[0m\u001b[39;49m -> \u001b[0m\u001b[32;49m24.1.2\u001b[0m\n",
      "\u001b[1m[\u001b[0m\u001b[34;49mnotice\u001b[0m\u001b[1;39;49m]\u001b[0m\u001b[39;49m To update, run: \u001b[0m\u001b[32;49mpip install --upgrade pip\u001b[0m\n",
      "Requirement already satisfied: nltk in /home/shiling/anaconda3/envs/llava/lib/python3.10/site-packages (3.8.1)\n",
      "Requirement already satisfied: click in /home/shiling/anaconda3/envs/llava/lib/python3.10/site-packages (from nltk) (8.1.7)\n",
      "Requirement already satisfied: joblib in /home/shiling/anaconda3/envs/llava/lib/python3.10/site-packages (from nltk) (1.4.2)\n",
      "Requirement already satisfied: regex>=2021.8.3 in /home/shiling/anaconda3/envs/llava/lib/python3.10/site-packages (from nltk) (2024.5.15)\n",
      "Requirement already satisfied: tqdm in /home/shiling/anaconda3/envs/llava/lib/python3.10/site-packages (from nltk) (4.66.4)\n",
      "\n",
      "\u001b[1m[\u001b[0m\u001b[34;49mnotice\u001b[0m\u001b[1;39;49m]\u001b[0m\u001b[39;49m A new release of pip is available: \u001b[0m\u001b[31;49m24.1\u001b[0m\u001b[39;49m -> \u001b[0m\u001b[32;49m24.1.2\u001b[0m\n",
      "\u001b[1m[\u001b[0m\u001b[34;49mnotice\u001b[0m\u001b[1;39;49m]\u001b[0m\u001b[39;49m To update, run: \u001b[0m\u001b[32;49mpip install --upgrade pip\u001b[0m\n",
      "Requirement already satisfied: rouge_score in /home/shiling/anaconda3/envs/llava/lib/python3.10/site-packages (0.1.2)\n",
      "Requirement already satisfied: absl-py in /home/shiling/anaconda3/envs/llava/lib/python3.10/site-packages (from rouge_score) (2.1.0)\n",
      "Requirement already satisfied: nltk in /home/shiling/anaconda3/envs/llava/lib/python3.10/site-packages (from rouge_score) (3.8.1)\n",
      "Requirement already satisfied: numpy in /home/shiling/anaconda3/envs/llava/lib/python3.10/site-packages (from rouge_score) (1.26.4)\n",
      "Requirement already satisfied: six>=1.14.0 in /home/shiling/anaconda3/envs/llava/lib/python3.10/site-packages (from rouge_score) (1.16.0)\n",
      "Requirement already satisfied: click in /home/shiling/anaconda3/envs/llava/lib/python3.10/site-packages (from nltk->rouge_score) (8.1.7)\n",
      "Requirement already satisfied: joblib in /home/shiling/anaconda3/envs/llava/lib/python3.10/site-packages (from nltk->rouge_score) (1.4.2)\n",
      "Requirement already satisfied: regex>=2021.8.3 in /home/shiling/anaconda3/envs/llava/lib/python3.10/site-packages (from nltk->rouge_score) (2024.5.15)\n",
      "Requirement already satisfied: tqdm in /home/shiling/anaconda3/envs/llava/lib/python3.10/site-packages (from nltk->rouge_score) (4.66.4)\n",
      "\n",
      "\u001b[1m[\u001b[0m\u001b[34;49mnotice\u001b[0m\u001b[1;39;49m]\u001b[0m\u001b[39;49m A new release of pip is available: \u001b[0m\u001b[31;49m24.1\u001b[0m\u001b[39;49m -> \u001b[0m\u001b[32;49m24.1.2\u001b[0m\n",
      "\u001b[1m[\u001b[0m\u001b[34;49mnotice\u001b[0m\u001b[1;39;49m]\u001b[0m\u001b[39;49m To update, run: \u001b[0m\u001b[32;49mpip install --upgrade pip\u001b[0m\n"
     ]
    }
   ],
   "source": [
    "! pip install evaluate\n",
    "! pip install bert_score\n",
    "! pip install sacrebleu\n",
    "! pip install nltk\n",
    "! pip install rouge_score\n",
    "# for BLEURT refer to https://github.com/google-research/bleurt "
   ]
  },
  {
   "cell_type": "code",
   "execution_count": 2,
   "metadata": {},
   "outputs": [
    {
     "name": "stderr",
     "output_type": "stream",
     "text": [
      "/home/shiling/anaconda3/envs/llava/lib/python3.10/site-packages/tqdm/auto.py:21: TqdmWarning: IProgress not found. Please update jupyter and ipywidgets. See https://ipywidgets.readthedocs.io/en/stable/user_install.html\n",
      "  from .autonotebook import tqdm as notebook_tqdm\n",
      "2024-07-12 11:34:01.211911: I tensorflow/core/util/port.cc:153] oneDNN custom operations are on. You may see slightly different numerical results due to floating-point round-off errors from different computation orders. To turn them off, set the environment variable `TF_ENABLE_ONEDNN_OPTS=0`.\n",
      "2024-07-12 11:34:01.220523: E external/local_xla/xla/stream_executor/cuda/cuda_fft.cc:485] Unable to register cuFFT factory: Attempting to register factory for plugin cuFFT when one has already been registered\n",
      "2024-07-12 11:34:01.232282: E external/local_xla/xla/stream_executor/cuda/cuda_dnn.cc:8454] Unable to register cuDNN factory: Attempting to register factory for plugin cuDNN when one has already been registered\n",
      "2024-07-12 11:34:01.235468: E external/local_xla/xla/stream_executor/cuda/cuda_blas.cc:1452] Unable to register cuBLAS factory: Attempting to register factory for plugin cuBLAS when one has already been registered\n",
      "2024-07-12 11:34:01.243593: I tensorflow/core/platform/cpu_feature_guard.cc:210] This TensorFlow binary is optimized to use available CPU instructions in performance-critical operations.\n",
      "To enable the following instructions: AVX2 AVX512F AVX512_VNNI FMA, in other operations, rebuild TensorFlow with the appropriate compiler flags.\n",
      "2024-07-12 11:34:01.828882: W tensorflow/compiler/tf2tensorrt/utils/py_utils.cc:38] TF-TRT Warning: Could not find TensorRT\n"
     ]
    },
    {
     "data": {
      "text/plain": [
       "(464,\n",
       " \"- The meme humorously suggests that a wife, after losing her memory, fell in love with and decided to remarry her own husband, indicating his unchanging worth and likeability as a partner, paralleled by the character's proud declaration of worthiness regarding his hammer.\",\n",
       " 'memes_d079np.png')"
      ]
     },
     "execution_count": 2,
     "metadata": {},
     "output_type": "execute_result"
    }
   ],
   "source": [
    "import json\n",
    "import pprint \n",
    "import numpy as np\n",
    "from evaluate import load\n",
    "\n",
    "pp = pprint.PrettyPrinter(indent=4)\n",
    "img_prompt_respond_file = '../data/memecap/filtered_meme_configs_5_attributes_memecap.json'\n",
    "# Load predictions\n",
    "predictions = []\n",
    "with open(img_prompt_respond_file, 'r', encoding='utf-8') as json_file:\n",
    "    predictions = json.load(json_file)\n",
    "len(predictions), predictions[0]['meaning of the meme'], predictions[0]['image_dir'].split('/')[-1]"
   ]
  },
  {
   "cell_type": "code",
   "execution_count": 3,
   "metadata": {},
   "outputs": [
    {
     "data": {
      "text/plain": [
       "(464, 1567, 1567)"
      ]
     },
     "execution_count": 3,
     "metadata": {},
     "output_type": "execute_result"
    }
   ],
   "source": [
    "# Load gtound truth \n",
    "gt = []\n",
    "with open('../data/memecap/meme-cap-main/data/memes-test.json', 'r', encoding='utf-8') as json_file:\n",
    "    gt = json.load(json_file)\n",
    "len(gt), gt[0]['meme_captions'], gt[0]['img_fname']\n",
    "memecap_predictions_concatenated = []\n",
    "memecap_processed_gt_concatenated = []\n",
    "memecap_predictions_extended = []\n",
    "memecap_processed_gt_extended = []\n",
    "for idx, meme_conf in enumerate(predictions):\n",
    "    for meme in gt:\n",
    "        if meme_conf['image_dir'].split('/')[-1] == meme['img_fname']:\n",
    "            memecap_predictions_concatenated.append(meme_conf['meaning of the meme'])\n",
    "            memecap_processed_gt_concatenated.append(''.join(meme['meme_captions']))\n",
    "            \n",
    "            memecap_predictions_extended += [meme_conf['meaning of the meme']] * len(meme['meme_captions'])\n",
    "            memecap_processed_gt_extended += meme['meme_captions']\n",
    "len(memecap_processed_gt_concatenated), len(memecap_processed_gt_extended), len(memecap_predictions_extended)"
   ]
  },
  {
   "cell_type": "markdown",
   "metadata": {},
   "source": [
    "# BERTscore"
   ]
  },
  {
   "cell_type": "code",
   "execution_count": 4,
   "metadata": {},
   "outputs": [],
   "source": [
    "bertscore = load(\"bertscore\")"
   ]
  },
  {
   "cell_type": "code",
   "execution_count": 5,
   "metadata": {},
   "outputs": [
    {
     "name": "stderr",
     "output_type": "stream",
     "text": [
      "/home/shiling/anaconda3/envs/llava/lib/python3.10/site-packages/huggingface_hub/file_download.py:1132: FutureWarning: `resume_download` is deprecated and will be removed in version 1.0.0. Downloads always resume when possible. If you want to force a new download, use `force_download=True`.\n",
      "  warnings.warn(\n",
      "Some weights of RobertaModel were not initialized from the model checkpoint at roberta-large and are newly initialized: ['roberta.pooler.dense.bias', 'roberta.pooler.dense.weight']\n",
      "You should probably TRAIN this model on a down-stream task to be able to use it for predictions and inference.\n"
     ]
    },
    {
     "name": "stdout",
     "output_type": "stream",
     "text": [
      "dict_keys(['precision', 'recall', 'f1', 'hashcode'])\n"
     ]
    },
    {
     "data": {
      "text/plain": [
       "(0.8596986209273566, 0.878484932191066, 0.8689020521791406)"
      ]
     },
     "execution_count": 5,
     "metadata": {},
     "output_type": "execute_result"
    }
   ],
   "source": [
    "# Extended predictions\n",
    "results = bertscore.compute(predictions=memecap_predictions_extended, references=memecap_processed_gt_extended, lang=\"en\")\n",
    "print(results.keys())\n",
    "np.mean(results['precision']), np.mean(results['recall']), np.mean(results['f1'])"
   ]
  },
  {
   "cell_type": "code",
   "execution_count": 6,
   "metadata": {},
   "outputs": [
    {
     "name": "stdout",
     "output_type": "stream",
     "text": [
      "dict_keys(['precision', 'recall', 'f1', 'hashcode'])\n"
     ]
    },
    {
     "data": {
      "text/plain": [
       "(0.8675926147863783, 0.8604510788773668, 0.8639449436089088)"
      ]
     },
     "execution_count": 6,
     "metadata": {},
     "output_type": "execute_result"
    }
   ],
   "source": [
    "# Concatenated references\n",
    "results = bertscore.compute(predictions=memecap_predictions_concatenated, references=memecap_processed_gt_concatenated, lang=\"en\")\n",
    "print(results.keys())\n",
    "np.mean(results['precision']), np.mean(results['recall']), np.mean(results['f1'])"
   ]
  },
  {
   "cell_type": "markdown",
   "metadata": {},
   "source": [
    "# chrf"
   ]
  },
  {
   "cell_type": "code",
   "execution_count": 7,
   "metadata": {},
   "outputs": [],
   "source": [
    "# prediction = [\"The relationship between cats and dogs is not exactly friendly.\", \"a good bookshop is just a genteel black hole that knows how to read.\"]\n",
    "# reference = [[\"The relationship between dogs and cats is not exactly friendly.\", ], [\"A good bookshop is just a genteel Black Hole that knows how to read.\"]]\n",
    "chrf = load(\"chrf\")\n",
    "\n",
    "# {'score': 84.64214891738334, 'char_order': 6, 'word_order': 0, 'beta': 2}"
   ]
  },
  {
   "cell_type": "code",
   "execution_count": 8,
   "metadata": {},
   "outputs": [
    {
     "name": "stdout",
     "output_type": "stream",
     "text": [
      "{'score': 27.859525237388898, 'char_order': 6, 'word_order': 0, 'beta': 2}\n"
     ]
    }
   ],
   "source": [
    "# Extended predictions\n",
    "chrf = load(\"chrf\")\n",
    "results = chrf.compute(predictions=memecap_predictions_extended, references=memecap_processed_gt_extended)\n",
    "print(results)"
   ]
  },
  {
   "cell_type": "code",
   "execution_count": 9,
   "metadata": {},
   "outputs": [
    {
     "name": "stdout",
     "output_type": "stream",
     "text": [
      "{'score': 23.778713464956684, 'char_order': 6, 'word_order': 0, 'beta': 2}\n"
     ]
    }
   ],
   "source": [
    "# Concatenated references\n",
    "results = chrf.compute(predictions=memecap_predictions_concatenated, references=memecap_processed_gt_concatenated)\n",
    "print(results)"
   ]
  },
  {
   "cell_type": "markdown",
   "metadata": {},
   "source": [
    "# bleurt"
   ]
  },
  {
   "cell_type": "code",
   "execution_count": 10,
   "metadata": {},
   "outputs": [
    {
     "name": "stdout",
     "output_type": "stream",
     "text": [
      "INFO:tensorflow:Reading checkpoint /home/shiling/git/bleurt/BLEURT-20.\n",
      "INFO:tensorflow:Config file found, reading.\n",
      "INFO:tensorflow:Will load checkpoint BLEURT-20\n",
      "INFO:tensorflow:Loads full paths and checks that files exists.\n",
      "INFO:tensorflow:... name:BLEURT-20\n",
      "INFO:tensorflow:... bert_config_file:bert_config.json\n",
      "INFO:tensorflow:... max_seq_length:512\n",
      "INFO:tensorflow:... vocab_file:None\n",
      "INFO:tensorflow:... do_lower_case:None\n",
      "INFO:tensorflow:... sp_model:sent_piece\n",
      "INFO:tensorflow:... dynamic_seq_length:True\n",
      "INFO:tensorflow:Creating BLEURT scorer.\n",
      "INFO:tensorflow:Creating SentencePiece tokenizer.\n",
      "INFO:tensorflow:Creating SentencePiece tokenizer.\n",
      "INFO:tensorflow:Will load model: /home/shiling/git/bleurt/BLEURT-20/sent_piece.model.\n",
      "INFO:tensorflow:SentencePiece tokenizer created.\n",
      "INFO:tensorflow:Creating Eager Mode predictor.\n",
      "INFO:tensorflow:Loading model.\n"
     ]
    },
    {
     "name": "stderr",
     "output_type": "stream",
     "text": [
      "WARNING: All log messages before absl::InitializeLog() is called are written to STDERR\n",
      "I0000 00:00:1720776859.216812    8319 cuda_executor.cc:1015] successful NUMA node read from SysFS had negative value (-1), but there must be at least one NUMA node, so returning NUMA node zero. See more at https://github.com/torvalds/linux/blob/v6.0/Documentation/ABI/testing/sysfs-bus-pci#L344-L355\n",
      "I0000 00:00:1720776859.217434    8319 cuda_executor.cc:1015] successful NUMA node read from SysFS had negative value (-1), but there must be at least one NUMA node, so returning NUMA node zero. See more at https://github.com/torvalds/linux/blob/v6.0/Documentation/ABI/testing/sysfs-bus-pci#L344-L355\n",
      "I0000 00:00:1720776859.217511    8319 cuda_executor.cc:1015] successful NUMA node read from SysFS had negative value (-1), but there must be at least one NUMA node, so returning NUMA node zero. See more at https://github.com/torvalds/linux/blob/v6.0/Documentation/ABI/testing/sysfs-bus-pci#L344-L355\n",
      "I0000 00:00:1720776859.217972    8319 cuda_executor.cc:1015] successful NUMA node read from SysFS had negative value (-1), but there must be at least one NUMA node, so returning NUMA node zero. See more at https://github.com/torvalds/linux/blob/v6.0/Documentation/ABI/testing/sysfs-bus-pci#L344-L355\n",
      "I0000 00:00:1720776859.218048    8319 cuda_executor.cc:1015] successful NUMA node read from SysFS had negative value (-1), but there must be at least one NUMA node, so returning NUMA node zero. See more at https://github.com/torvalds/linux/blob/v6.0/Documentation/ABI/testing/sysfs-bus-pci#L344-L355\n",
      "I0000 00:00:1720776859.218107    8319 cuda_executor.cc:1015] successful NUMA node read from SysFS had negative value (-1), but there must be at least one NUMA node, so returning NUMA node zero. See more at https://github.com/torvalds/linux/blob/v6.0/Documentation/ABI/testing/sysfs-bus-pci#L344-L355\n",
      "I0000 00:00:1720776859.218204    8319 cuda_executor.cc:1015] successful NUMA node read from SysFS had negative value (-1), but there must be at least one NUMA node, so returning NUMA node zero. See more at https://github.com/torvalds/linux/blob/v6.0/Documentation/ABI/testing/sysfs-bus-pci#L344-L355\n",
      "I0000 00:00:1720776859.218270    8319 cuda_executor.cc:1015] successful NUMA node read from SysFS had negative value (-1), but there must be at least one NUMA node, so returning NUMA node zero. See more at https://github.com/torvalds/linux/blob/v6.0/Documentation/ABI/testing/sysfs-bus-pci#L344-L355\n",
      "I0000 00:00:1720776859.218336    8319 cuda_executor.cc:1015] successful NUMA node read from SysFS had negative value (-1), but there must be at least one NUMA node, so returning NUMA node zero. See more at https://github.com/torvalds/linux/blob/v6.0/Documentation/ABI/testing/sysfs-bus-pci#L344-L355\n",
      "2024-07-12 11:34:19.218390: I tensorflow/core/common_runtime/gpu/gpu_device.cc:2021] Created device /job:localhost/replica:0/task:0/device:GPU:0 with 8150 MB memory:  -> device: 0, name: NVIDIA GeForce RTX 3060, pci bus id: 0000:01:00.0, compute capability: 8.6\n"
     ]
    },
    {
     "name": "stdout",
     "output_type": "stream",
     "text": [
      "INFO:tensorflow:BLEURT initialized.\n"
     ]
    },
    {
     "name": "stderr",
     "output_type": "stream",
     "text": [
      "INFO:tensorflow:BLEURT initialized.\n"
     ]
    }
   ],
   "source": [
    "from bleurt import score\n",
    "\n",
    "checkpoint = \"/home/shiling/git/bleurt/BLEURT-20\"\n",
    "# [0.9881654977798462, 0.7926645278930664]\n",
    "references = [\"This is a test.\", \"This is a test.\"]\n",
    "candidates = [\"This is a test.\", \"This is the test.\"]\n",
    "\n",
    "scorer = score.BleurtScorer(checkpoint)"
   ]
  },
  {
   "cell_type": "code",
   "execution_count": 11,
   "metadata": {},
   "outputs": [
    {
     "name": "stdout",
     "output_type": "stream",
     "text": [
      "0.47095482013335105\n"
     ]
    }
   ],
   "source": [
    "# Extended predictions\n",
    "scores = scorer.score(references=memecap_processed_gt_extended, candidates=memecap_predictions_extended)\n",
    "# assert isinstance(scores, list) and len(scores) == 1\n",
    "print(np.mean(scores))"
   ]
  },
  {
   "cell_type": "code",
   "execution_count": 12,
   "metadata": {},
   "outputs": [
    {
     "name": "stdout",
     "output_type": "stream",
     "text": [
      "0.47439709543411074\n"
     ]
    }
   ],
   "source": [
    "# Concatenated references\n",
    "scores = scorer.score(references=memecap_processed_gt_concatenated, candidates=memecap_predictions_concatenated)\n",
    "# assert isinstance(scores, list) and len(scores) == 1\n",
    "print(np.mean(scores))"
   ]
  },
  {
   "cell_type": "markdown",
   "metadata": {},
   "source": []
  },
  {
   "cell_type": "markdown",
   "metadata": {},
   "source": [
    "# rouge"
   ]
  },
  {
   "cell_type": "code",
   "execution_count": 13,
   "metadata": {},
   "outputs": [],
   "source": [
    "rouge = load('rouge')\n",
    "predictions = [\"hello there\", \"general kenobi\"]\n",
    "references = [\"hello there\", \"general kenobi\"]\n",
    "\n",
    "# {'rouge1': 1.0, 'rouge2': 1.0, 'rougeL': 1.0, 'rougeLsum': 1.0}"
   ]
  },
  {
   "cell_type": "code",
   "execution_count": 14,
   "metadata": {},
   "outputs": [
    {
     "name": "stdout",
     "output_type": "stream",
     "text": [
      "{'rouge1': 0.21358210206311545, 'rouge2': 0.04168870174870554, 'rougeL': 0.17280080731314845, 'rougeLsum': 0.17281827452565934}\n"
     ]
    }
   ],
   "source": [
    "# Extended predictions\n",
    "results = rouge.compute(predictions=memecap_predictions_extended,\n",
    "                        references=memecap_processed_gt_extended)\n",
    "print(results)"
   ]
  },
  {
   "cell_type": "code",
   "execution_count": 15,
   "metadata": {},
   "outputs": [
    {
     "name": "stdout",
     "output_type": "stream",
     "text": [
      "{'rouge1': 0.24106116976566622, 'rouge2': 0.05713127177377949, 'rougeL': 0.17311602335550197, 'rougeLsum': 0.17300583696935662}\n"
     ]
    }
   ],
   "source": [
    "# Concatenated references\n",
    "results = rouge.compute(predictions=memecap_predictions_concatenated,\n",
    "                        references=memecap_processed_gt_concatenated)\n",
    "print(results)"
   ]
  },
  {
   "cell_type": "markdown",
   "metadata": {},
   "source": [
    "# bleu"
   ]
  },
  {
   "cell_type": "code",
   "execution_count": 16,
   "metadata": {},
   "outputs": [],
   "source": [
    "# predictions = [\"hello there general kenobi\", \"foo bar foobar\"]\n",
    "# references = [\n",
    "#     [\"hello there general kenobi\", \"hello there !\"],\n",
    "#     [\"foo bar foobar\"]\n",
    "# ]\n",
    "bleu =load(\"bleu\")\n",
    "\n",
    "# {'bleu': 1.0, 'precisions': [1.0, 1.0, 1.0, 1.0], 'brevity_penalty': 1.0, 'length_ratio': 1.1666666666666667, 'translation_length': 7, 'reference_length': 6}\n"
   ]
  },
  {
   "cell_type": "code",
   "execution_count": 21,
   "metadata": {},
   "outputs": [
    {
     "name": "stdout",
     "output_type": "stream",
     "text": [
      "{'bleu': 0.027211523349249925, 'precisions': [0.14962602704395564, 0.02523001043346296, 0.005337452099788848], 'brevity_penalty': 1.0, 'length_ratio': 2.0054679129567368, 'translation_length': 54282, 'reference_length': 27067}\n"
     ]
    }
   ],
   "source": [
    "# Extended predictions\n",
    "bleu =load(\"bleu\")\n",
    "results = bleu.compute(predictions=memecap_predictions_extended, references=memecap_processed_gt_extended, max_order=4)\n",
    "print(results)"
   ]
  },
  {
   "cell_type": "code",
   "execution_count": 18,
   "metadata": {},
   "outputs": [
    {
     "name": "stdout",
     "output_type": "stream",
     "text": [
      "{'bleu': 0.018419506015368323, 'precisions': [0.31603215153592124, 0.06782162335579082, 0.01554130017855962, 0.005321689295217302], 'brevity_penalty': 0.5047994822571462, 'length_ratio': 0.5939674315321983, 'translation_length': 16049, 'reference_length': 27020}\n"
     ]
    }
   ],
   "source": [
    "\n",
    "# Concatenated references\n",
    "results = bleu.compute(predictions=memecap_predictions_concatenated, references=memecap_processed_gt_concatenated)\n",
    "print(results)"
   ]
  }
 ],
 "metadata": {
  "kernelspec": {
   "display_name": "base",
   "language": "python",
   "name": "python3"
  },
  "language_info": {
   "codemirror_mode": {
    "name": "ipython",
    "version": 3
   },
   "file_extension": ".py",
   "mimetype": "text/x-python",
   "name": "python",
   "nbconvert_exporter": "python",
   "pygments_lexer": "ipython3",
   "version": "3.10.14"
  }
 },
 "nbformat": 4,
 "nbformat_minor": 2
}
