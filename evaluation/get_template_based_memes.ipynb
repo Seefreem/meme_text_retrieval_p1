{
 "cells": [
  {
   "cell_type": "code",
   "execution_count": 1,
   "metadata": {},
   "outputs": [
    {
     "name": "stderr",
     "output_type": "stream",
     "text": [
      "/home/shiling/anaconda3/envs/llava/lib/python3.10/site-packages/tqdm/auto.py:21: TqdmWarning: IProgress not found. Please update jupyter and ipywidgets. See https://ipywidgets.readthedocs.io/en/stable/user_install.html\n",
      "  from .autonotebook import tqdm as notebook_tqdm\n"
     ]
    }
   ],
   "source": [
    "import argparse\n",
    "\n",
    "from memetils import load_dataset, str2bool\n",
    "from tlc import *"
   ]
  },
  {
   "cell_type": "code",
   "execution_count": 2,
   "metadata": {},
   "outputs": [
    {
     "data": {
      "text/plain": [
       "_StoreAction(option_strings=['--save_embeddings'], dest='save_embeddings', nargs=None, const=None, default=False, type=<class 'bool'>, choices=None, required=False, help=None, metavar=None)"
      ]
     },
     "execution_count": 2,
     "metadata": {},
     "output_type": "execute_result"
    }
   ],
   "source": [
    "\n",
    "parser = argparse.ArgumentParser(description='Template Label Counter')\n",
    "parser.add_argument('--template_path', action='store', type=str, dest='path', default='../data/meme_retrieval_data/template_info.json')\n",
    "parser.add_argument('--dataset', action=\"store\", type=str, dest='dataset', default='figmemes')\n",
    "parser.add_argument('--data_root', action=\"store\", type=str, dest='data_root', default='../data/figmemes')\n",
    "parser.add_argument('--num_neigh', action=\"store\", type=int, dest='num_neigh', default=1)\n",
    "parser.add_argument('--vote_type', action=\"store\", type=str, dest='vote_type', default='template')\n",
    "parser.add_argument('--split', action=\"store\", type=str, dest='split', default='standard')\n",
    "parser.add_argument('--all_feature_type', action=\"store\", type=str, dest='all_feature_type', default='')\n",
    "parser.add_argument('--include_examples', action=\"store\", type=str2bool, dest='examples', default=False)\n",
    "# Jupyter has this command parameter\n",
    "parser.add_argument('--feature_extraction', action=\"store\", type=str, dest='feature', default='pixel') \n",
    "parser.add_argument('--meme_size', action=\"store\", type=int, dest='meme_size', default=64)\n",
    "parser.add_argument('--task', action=\"store\", type=int, dest='task', default=1)\n",
    "# No combination, only meme embeddings.\n",
    "parser.add_argument('--combine', action=\"store\", type=str, dest='combine', default='None') \n",
    "parser.add_argument('--just_text', action=\"store\", type=str2bool, dest='just_text', default='False')\n",
    "parser.add_argument('--need_to_read', action=\"store\", type=bool, dest='need_to_read', default=True)\n",
    "parser.add_argument('--save_embeddings', action=\"store\", type=bool, dest='save_embeddings', default=False)"
   ]
  },
  {
   "cell_type": "code",
   "execution_count": 3,
   "metadata": {},
   "outputs": [
    {
     "name": "stderr",
     "output_type": "stream",
     "text": [
      "Annotations: 5141it [00:00, 233883.80it/s]\n",
      "Annotations: 5141it [00:00, 478039.26it/s]\n",
      "Annotations: 5141it [00:00, 732460.91it/s]\n"
     ]
    },
    {
     "data": {
      "text/plain": [
       "DatasetDict({\n",
       "    train: Dataset({\n",
       "        features: ['img_id', 'img_path', 'year', 'labels', 'style', 'ocr_text'],\n",
       "        num_rows: 3084\n",
       "    })\n",
       "    validation: Dataset({\n",
       "        features: ['img_id', 'img_path', 'year', 'labels', 'style', 'ocr_text'],\n",
       "        num_rows: 515\n",
       "    })\n",
       "    test: Dataset({\n",
       "        features: ['img_id', 'img_path', 'year', 'labels', 'style', 'ocr_text'],\n",
       "        num_rows: 1542\n",
       "    })\n",
       "})"
      ]
     },
     "execution_count": 3,
     "metadata": {},
     "output_type": "execute_result"
    }
   ],
   "source": [
    "args = parser.parse_args()\n",
    "dataset = load_dataset(args)\n",
    "dataset[1]"
   ]
  },
  {
   "cell_type": "code",
   "execution_count": 4,
   "metadata": {},
   "outputs": [
    {
     "data": {
      "text/plain": [
       "'../data/figmemes/images/1581676598623.jpg'"
      ]
     },
     "execution_count": 4,
     "metadata": {},
     "output_type": "execute_result"
    }
   ],
   "source": [
    "dataset[1]['test'][0]['img_path']"
   ]
  },
  {
   "cell_type": "code",
   "execution_count": 5,
   "metadata": {},
   "outputs": [
    {
     "name": "stdout",
     "output_type": "stream",
     "text": [
      "feature_dir  embeddings/pixel/None/\n"
     ]
    }
   ],
   "source": [
    "args.feature = 'pixel'\n",
    "if not args.need_to_read:\n",
    "    model, preprocess = clip.load('ViT-L/14')\n",
    "    model.cuda().eval()\n",
    "    # The __init__ function will calculate the embeddings \n",
    "    # for templates and the target dataset, if 'need_to_read' is 'True'\n",
    "    tlc = TemplateLabelCounter(args=args, dataset=dataset, model=model, \n",
    "                               preprocess=preprocess, need_to_read=False)\n",
    "else:\n",
    "    tlc = TemplateLabelCounter(args=args, dataset=dataset, need_to_read=True)\n"
   ]
  },
  {
   "cell_type": "code",
   "execution_count": 6,
   "metadata": {},
   "outputs": [
    {
     "name": "stdout",
     "output_type": "stream",
     "text": [
      "meme2template\n",
      "The shape of the test embeddings: (1542, 768)\n",
      "The shape of the template embeddings: (5215, 768)\n"
     ]
    },
    {
     "name": "stderr",
     "output_type": "stream",
     "text": [
      "1542it [00:00, 78730.32it/s]"
     ]
    },
    {
     "name": "stdout",
     "output_type": "stream",
     "text": [
      "In total, there are 16 instances.\n"
     ]
    },
    {
     "name": "stderr",
     "output_type": "stream",
     "text": [
      "\n"
     ]
    }
   ],
   "source": [
    "# tlc.get_template_embeddings()\n",
    "# tlc.get_meme_embeddings()\n",
    "tlc.meme2template(max_distance = 10)\n"
   ]
  },
  {
   "cell_type": "markdown",
   "metadata": {},
   "source": []
  }
 ],
 "metadata": {
  "kernelspec": {
   "display_name": "llava",
   "language": "python",
   "name": "python3"
  },
  "language_info": {
   "codemirror_mode": {
    "name": "ipython",
    "version": 3
   },
   "file_extension": ".py",
   "mimetype": "text/x-python",
   "name": "python",
   "nbconvert_exporter": "python",
   "pygments_lexer": "ipython3",
   "version": "3.10.14"
  }
 },
 "nbformat": 4,
 "nbformat_minor": 2
}
