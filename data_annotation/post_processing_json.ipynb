{
 "cells": [
  {
   "cell_type": "markdown",
   "metadata": {},
   "source": [
    "This file is the post-processing script for GPT-4o generated content."
   ]
  },
  {
   "cell_type": "code",
   "execution_count": 10,
   "metadata": {},
   "outputs": [
    {
     "data": {
      "text/plain": [
       "329"
      ]
     },
     "execution_count": 10,
     "metadata": {},
     "output_type": "execute_result"
    }
   ],
   "source": [
    "import json\n",
    "import os\n",
    "import pprint \n",
    "import re\n",
    "pp = pprint.PrettyPrinter(indent=4)\n",
    "\n",
    "# dataset_name = 'meme_retrieval_data'\n",
    "dataset_name = 'figmemes'\n",
    "# dataset_name = 'memecap'\n",
    "\n",
    "# file_suffix = \"_1-1537_figmemes_multi_labels\"\n",
    "file_suffix = \"_1-11_cot_3_step\"\n",
    "\n",
    "img_prompt_respond_file = ''\n",
    "if dataset_name == 'meme_retrieval_data':\n",
    "    img_prompt_respond_file = f'../data/meme_retrieval_data/img_prompt_respond{file_suffix}.json' # img_prompt_respond_1-33283.json\n",
    "elif dataset_name == 'figmemes':\n",
    "    img_prompt_respond_file = f'../data/figmemes/img_prompt_respond{file_suffix}.json'\n",
    "elif  dataset_name == 'memecap':\n",
    "    img_prompt_respond_file = f'../data/memecap/img_prompt_respond{file_suffix}.json'\n",
    "\n",
    "meme_configs = []\n",
    "with open(img_prompt_respond_file, 'r', encoding='utf-8') as json_file:\n",
    "    meme_configs = json.load(json_file)\n",
    "len(meme_configs)\n"
   ]
  },
  {
   "cell_type": "code",
   "execution_count": 11,
   "metadata": {},
   "outputs": [
    {
     "data": {
      "text/plain": [
       "({'allegory',\n",
       "  'alliteration',\n",
       "  'allusion',\n",
       "  'amplification',\n",
       "  'anagram',\n",
       "  'analogy',\n",
       "  'anthropomorphism',\n",
       "  'antithesis',\n",
       "  'chiasmus',\n",
       "  'circumlocution',\n",
       "  'contrast',\n",
       "  'euphemism',\n",
       "  'exaggeration',\n",
       "  'imagery',\n",
       "  'irony',\n",
       "  'metaphor',\n",
       "  'onomatopoeia',\n",
       "  'oxymoron',\n",
       "  'paradox',\n",
       "  'personification',\n",
       "  'portmanteau',\n",
       "  'pun',\n",
       "  'sarcasm',\n",
       "  'satire',\n",
       "  'simile',\n",
       "  'symbolism'},\n",
       " {'anger',\n",
       "  'contempt',\n",
       "  'disgust',\n",
       "  'embarrassment',\n",
       "  'envy',\n",
       "  'fear',\n",
       "  'guilt',\n",
       "  'hate',\n",
       "  'interest',\n",
       "  'jealousy',\n",
       "  'joy',\n",
       "  'love',\n",
       "  'none',\n",
       "  'sadness',\n",
       "  'shame',\n",
       "  'surprise'},\n",
       " 26,\n",
       " 16)"
      ]
     },
     "execution_count": 11,
     "metadata": {},
     "output_type": "execute_result"
    }
   ],
   "source": [
    "if dataset_name == 'meme_retrieval_data' or dataset_name == 'memecap':\n",
    "    literary_device = set(\"sarcasm, irony, allegory, alliteration, allusion, amplification, anagram, analogy, anthropomorphism, antithesis, chiasmus, circumlocution, euphemism, exaggeration, imagery, metaphor, onomatopoeia, oxymoron, paradox, personification, portmanteau, pun, satire, simile, symbolism, contrast\".split(', '))\n",
    "elif dataset_name == 'figmemes':\n",
    "    literary_device = set(\"allusion, exaggeration, irony, anthrop, metaphor, contrast\".split(', '))\n",
    "\n",
    "emotion_word = set(\"fear, anger, joy, sadness, surprise, disgust, guilt, contempt, shame, embarrassment, envy, jealousy, love, hate, interest, none\".split(', '))\n",
    "literary_device, emotion_word, len(literary_device), len(emotion_word)"
   ]
  },
  {
   "cell_type": "markdown",
   "metadata": {},
   "source": [
    "# Extract responses into JSON objects "
   ]
  },
  {
   "cell_type": "code",
   "execution_count": 12,
   "metadata": {},
   "outputs": [
    {
     "name": "stdout",
     "output_type": "stream",
     "text": [
      "106 70 175\n",
      "{'dark humor', 'anticlimax', 'confession', 'humor/satire', 'humor', 'stereotype'}\n"
     ]
    },
    {
     "data": {
      "text/plain": [
       "{'image_dir': '../data/meme_retrieval_data/dataset/meme_images/1yyrky.jpg',\n",
       " 'prompt': '\\n\"You are a masterful assistant in the interpretation of online memes, their style of literary devices, their meaning and humour..\"\\n\\n<About the meme template>:\\n{[10] Guy (also known as \"Really High Guy\" and \"Stoner Stanley\") is an advice animal image macro series featuring a photo of a young man who appears to be under the influence of marijuana. The captions typically portray stereotypical stoner behavior, similar to Stoner Dog, such as giving invalid answers to misunderstood questions and craving junk food. In April 2021, UK-based resident Connor Sinclair revealed himself to be the man depicted in 10 Guy after nearly a decade of anonymity.}\\n\\n<The list of literary devices>: \\nsarcasm, irony, allegory, alliteration, allusion, amplification, anagram, analogy, anthropomorphism, antithesis, chiasmus, circumlocution, euphemism, exaggeration, imagery, metaphor, onomatopoeia, oxymoron, paradox, personification, portmanteau, pun, satire, simile, symbolism and contrast.\\n\\n\"<Multiple Choice> Please select no more than three most significant labels from the above list that are applied to the meme, and explain why:\"\\nYour answer:\\n\\n\"<Extraction of answer> Extract only the labels for the multiple choice question above:\"\\nYour answer:\\n\\n\"<Choice by choice comparison> Compare each label with the meme and decide if this label could explain the meme:\"\\nYour answer:\\n\\n\"<Final output> select the correct labels from the above comparison and output in the format:\"\\n{\\n\"literary device\":[\"allusion\", ...]\\n}',\n",
       " 'literary device': ['irony', 'exaggeration']}"
      ]
     },
     "execution_count": 12,
     "metadata": {},
     "output_type": "execute_result"
    }
   ],
   "source": [
    "import re\n",
    "import json\n",
    "correction_map = {'sarcasm':'irony',  \n",
    "                  'anthropomorphism':'anthrop',\n",
    "                  'personification':'anthrop',\n",
    "                  'paradox':'contrast',\n",
    "                  'antithesis':'contrast',\n",
    "                  'oxymoron':'contrast',\n",
    "                  'simile': 'metaphor',\n",
    "                  'dehumanizing metaphor': 'metaphor',\n",
    "                  'parody': 'metaphor',\n",
    "                  'amplification': 'exaggeration'\n",
    "                  }\n",
    "discared_list = ['none', \"anagram\", \"pun\", \"allegory\", \"alliteration\", \"analogy\", \n",
    "                 \"antithesis\", \"chiasmus\", \"circumlocution\", \"euphemism\", \"imagery\", \n",
    "                 \"onomatopoeia\", \"portmanteau\",  \"symbolism\", 'satire']\n",
    "\n",
    "counter = 0\n",
    "meme_annotations = []\n",
    "invalid_labels = []\n",
    "number_of_invalid_labels = 0\n",
    "for i, meme in enumerate(meme_configs):\n",
    "    new_meme_conf = {}\n",
    "    new_meme_conf[\"image_dir\"] = meme[\"image_dir\"]\n",
    "    new_meme_conf[\"prompt\"] = meme[\"prompt\"]\n",
    "    x = re.sub(\"```.*\\n\", \"\", meme['respond'])\n",
    "    x = re.sub(\"```\", \"\", x)\n",
    "    x = x.strip()\n",
    "    # Extra process for 3-step prompt\n",
    "    x = re.sub(\"\\n\", \"\", x)\n",
    "    if not (\"literary device\" in x): # Handling responses like \"I'm sorry, I can’t assist with this\"\n",
    "        continue\n",
    "    pattern = r\"\\{(.*?)\\}\"  # Capturing group for anything between '{' and '}'\n",
    "    match = re.findall(pattern, x)\n",
    "    x = \"{\" + match[0].strip() + \"}\"\n",
    "    try:\n",
    "        y = json.loads(x)\n",
    "        remove_list = []\n",
    "        if \"literary device\" in y.keys():\n",
    "            y[\"literary device\"] = [device.lower() for device in y[\"literary device\"] if device.lower() not in discared_list]\n",
    "            # y[\"literary device\"].remove('none')\n",
    "            valid = True\n",
    "            for idx in range(len(y['literary device'])):\n",
    "                device = y['literary device'][idx]\n",
    "                if device not in literary_device:\n",
    "                    if device in correction_map.keys():\n",
    "                        y['literary device'][idx] = correction_map[device]\n",
    "                        # print('Correcttion: ', device, correction_map[device])\n",
    "                    else:\n",
    "                        valid = False   \n",
    "                        # y['literary device'].remove(device)\n",
    "                        remove_list.append(device)\n",
    "                        # print(y['literary device'])\n",
    "                        invalid_labels.append(device)\n",
    "            if valid:\n",
    "                counter += 1\n",
    "            else:\n",
    "                number_of_invalid_labels += 1\n",
    "        # remove duplicated labels\n",
    "        y[\"literary device\"] = [ de for de in y[\"literary device\"] if de not in remove_list]\n",
    "        y[\"literary device\"] = list(set(y[\"literary device\"]))\n",
    "        if len(y[\"literary device\"]) > 0:\n",
    "            new_meme_conf.update(y) # Merge two dictionaries\n",
    "            meme_annotations.append(new_meme_conf)\n",
    "    except Exception as e:\n",
    "        print('x: ', x)\n",
    "        json.loads(x)\n",
    "        print(\"Error:\", e)\n",
    "        print(\"An error has occored when parsing the string\", meme[\"image_dir\"])\n",
    "        pass \n",
    "    \n",
    "'''\n",
    "{\n",
    "  \"detected text\": \"My Brother's Husband Is the Hottest Family-Friendly Manga Ever Made by Chase Burns · Feb 11, 2020 at 1:00 pm KIDS ARE LUCKY. THEY DON'T HAVE TO THINK ABOUT THAT STUFF.\",\n",
    "  \"meaning of the meme\": \"The meme showcases a perceived irony where a manga titled 'My Brother's Husband,' featuring themes that might not traditionally be considered family-friendly, is touted as the 'hottest family-friendly manga.' It draws attention to the juxtaposition between the term 'family-friendly' and the content of the manga which deals with complex social issues such as same-sex relationships. The character's dialog emphasizes the innocence of children who do not have to grapple with the social complexities explored in the manga.\",\n",
    "  \"literary device\": [\"Irony\", \"Contrast\"]\n",
    "}\n",
    "'''\n",
    "print(counter, number_of_invalid_labels, len(meme_annotations))\n",
    "print(set(invalid_labels))\n",
    "meme_annotations[0]"
   ]
  },
  {
   "cell_type": "code",
   "execution_count": 13,
   "metadata": {},
   "outputs": [
    {
     "data": {
      "text/plain": [
       "{'literary device': ['irony', 'dark humor', 'allusion']}"
      ]
     },
     "execution_count": 13,
     "metadata": {},
     "output_type": "execute_result"
    }
   ],
   "source": [
    "output_file_name = ''\n",
    "if dataset_name == 'meme_retrieval_data':\n",
    "    output_file_name = f'../data/meme_retrieval_data/filtered_meme_configs{file_suffix}.json'\n",
    "elif dataset_name == 'figmemes':\n",
    "    output_file_name = f'../data/figmemes/filtered_meme_configs{file_suffix}.json'\n",
    "elif  dataset_name == 'memecap':\n",
    "    output_file_name = f'../data/memecap/filtered_meme_configs{file_suffix}.json'\n",
    "\n",
    "# Save JSON file\n",
    "print(len(meme_annotations))\n",
    "with open(output_file_name, \"w\") as outfile: \n",
    "      json.dump(meme_annotations, outfile, indent=4)"
   ]
  },
  {
   "cell_type": "code",
   "execution_count": 14,
   "metadata": {},
   "outputs": [
    {
     "name": "stdout",
     "output_type": "stream",
     "text": [
      "175\n"
     ]
    }
   ],
   "source": [
    "output_file_name = ''\n",
    "if dataset_name == 'meme_retrieval_data':\n",
    "    output_file_name = f'../data/meme_retrieval_data/filtered_meme_configs{file_suffix}.json'\n",
    "elif dataset_name == 'figmemes':\n",
    "    output_file_name = f'../data/figmemes/filtered_meme_configs{file_suffix}.json'\n",
    "elif  dataset_name == 'memecap':\n",
    "    output_file_name = f'../data/memecap/filtered_meme_configs{file_suffix}.json'\n",
    "\n",
    "# Save JSON file\n",
    "print(len(meme_annotations))\n",
    "with open(output_file_name, \"w\") as outfile: \n",
    "      json.dump(meme_annotations, outfile, indent=4)"
   ]
  },
  {
   "cell_type": "markdown",
   "metadata": {},
   "source": [
    "# Statistics and post-check"
   ]
  },
  {
   "cell_type": "code",
   "execution_count": 15,
   "metadata": {},
   "outputs": [],
   "source": [
    "def str_length_statistics(dataset):\n",
    "    # ic_label_length = []\n",
    "    dt_label_length = []\n",
    "    mc_label_length = []\n",
    "    ld_label_length = []\n",
    "    # ew_label_length = []\n",
    "\n",
    "    for ite in dataset:\n",
    "        dt_label_length.append(len(ite['detected text'].split()))\n",
    "        mc_label_length.append(len(ite['meaning of the meme'].split()))\n",
    "        ld_label_length.append(len(ite['literary device']))\n",
    "\n",
    "    print(set(dt_label_length))\n",
    "    print(set(mc_label_length))\n",
    "    print(set(ld_label_length)) # Good, only 1\n",
    "\n",
    "    import pandas as pd\n",
    "    import matplotlib.pyplot as plt\n",
    "    # Create a DataFrame from the lists\n",
    "    data = {\n",
    "        'detected text': dt_label_length,\n",
    "        'meaning of the meme': mc_label_length,\n",
    "        'literary device': ld_label_length,\n",
    "    }\n",
    "    df = pd.DataFrame(data)\n",
    "\n",
    "    # Display the DataFrame\n",
    "    print(df)\n",
    "\n",
    "    # Plot a boxplot\n",
    "    plt.figure(figsize=(10, 6))\n",
    "    df.boxplot()\n",
    "    plt.title('The distribution of the lengths of responses')\n",
    "    plt.ylabel('No. of words')\n",
    "    plt.show()\n"
   ]
  },
  {
   "cell_type": "code",
   "execution_count": 16,
   "metadata": {},
   "outputs": [],
   "source": [
    "# print(len(meme_annotations))\n",
    "# str_length_statistics(meme_annotations)"
   ]
  },
  {
   "cell_type": "markdown",
   "metadata": {},
   "source": [
    "# Label distribution"
   ]
  },
  {
   "cell_type": "code",
   "execution_count": 17,
   "metadata": {},
   "outputs": [
    {
     "name": "stdout",
     "output_type": "stream",
     "text": [
      "defaultdict(<function <lambda> at 0x7fa2a5e31620>,\n",
      "            {   'allusion': 20,\n",
      "                'amplification': 1,\n",
      "                'anthropomorphism': 27,\n",
      "                'contrast': 32,\n",
      "                'exaggeration': 56,\n",
      "                'irony': 152,\n",
      "                'paradox': 7,\n",
      "                'personification': 1,\n",
      "                'sarcasm': 21})\n"
     ]
    }
   ],
   "source": [
    "from collections import defaultdict\n",
    "\n",
    "literary_device_label_dict = defaultdict(lambda: 0)\n",
    "# emotion_label_dict= defaultdict(lambda: 0)\n",
    "\n",
    "for idx, meme_conf in enumerate(meme_annotations):\n",
    "    if 'literary device' in meme_conf.keys(): \n",
    "        for device in meme_conf['literary device']:\n",
    "            literary_device_label_dict[device] += 1\n",
    "pp.pprint(literary_device_label_dict)"
   ]
  },
  {
   "cell_type": "code",
   "execution_count": 18,
   "metadata": {},
   "outputs": [
    {
     "data": {
      "image/png": "[encoded data removed]",
      "text/plain": [
       "<Figure size 640x480 with 1 Axes>"
      ]
     },
     "metadata": {},
     "output_type": "display_data"
    }
   ],
   "source": [
    "import matplotlib.pyplot as plt\n",
    "\n",
    "# Extract the keys and values from the dictionary\n",
    "my_keys = list(literary_device_label_dict.keys())\n",
    "my_keys.sort()\n",
    "\n",
    "keys = my_keys\n",
    "values = [literary_device_label_dict[i] for i in my_keys]\n",
    "\n",
    "# Plot a bar chart\n",
    "# plt.figure(figsize=(10, 6))\n",
    "plt.bar(keys, values, color='skyblue', edgecolor='black')\n",
    "plt.xticks(rotation=90)\n",
    "\n",
    "plt.title('The Numbers of Literary Device Labels')\n",
    "plt.xlabel('Literary Device')\n",
    "plt.ylabel('Counts')\n",
    "plt.grid(True, axis='y', linestyle='--', alpha=0.7)\n",
    "plt.show()\n"
   ]
  }
 ],
 "metadata": {
  "kernelspec": {
   "display_name": "base",
   "language": "python",
   "name": "python3"
  },
  "language_info": {
   "codemirror_mode": {
    "name": "ipython",
    "version": 3
   },
   "file_extension": ".py",
   "mimetype": "text/x-python",
   "name": "python",
   "nbconvert_exporter": "python",
   "pygments_lexer": "ipython3",
   "version": "3.10.14"
  }
 },
 "nbformat": 4,
 "nbformat_minor": 2
}
