{
 "cells": [
  {
   "cell_type": "markdown",
   "metadata": {},
   "source": [
    "This file is the post-processing script for GPT-4o generated content."
   ]
  },
  {
   "cell_type": "code",
   "execution_count": 114,
   "metadata": {},
   "outputs": [
    {
     "data": {
      "text/plain": [
       "11"
      ]
     },
     "execution_count": 114,
     "metadata": {},
     "output_type": "execute_result"
    }
   ],
   "source": [
    "import json\n",
    "import os\n",
    "import pprint \n",
    "import re\n",
    "pp = pprint.PrettyPrinter(indent=4)\n",
    "\n",
    "# dataset_name = 'meme_retrieval_data'\n",
    "dataset_name = 'figmemes'\n",
    "# dataset_name = 'memecap'\n",
    "\n",
    "# file_suffix = \"_1-1537_figmemes_multi_labels\"\n",
    "file_suffix = \"_1-11_cot\"\n",
    "\n",
    "img_prompt_respond_file = ''\n",
    "if dataset_name == 'meme_retrieval_data':\n",
    "    img_prompt_respond_file = f'../data/meme_retrieval_data/img_prompt_respond{file_suffix}.json' # img_prompt_respond_1-33283.json\n",
    "elif dataset_name == 'figmemes':\n",
    "    img_prompt_respond_file = f'../data/figmemes/img_prompt_respond{file_suffix}.json'\n",
    "elif  dataset_name == 'memecap':\n",
    "    img_prompt_respond_file = f'../data/memecap/img_prompt_respond{file_suffix}.json'\n",
    "\n",
    "meme_configs = []\n",
    "with open(img_prompt_respond_file, 'r', encoding='utf-8') as json_file:\n",
    "    meme_configs = json.load(json_file)\n",
    "len(meme_configs)\n"
   ]
  },
  {
   "cell_type": "code",
   "execution_count": 115,
   "metadata": {},
   "outputs": [
    {
     "data": {
      "text/plain": [
       "({'allusion', 'anthrop', 'contrast', 'exaggeration', 'irony', 'metaphor'},\n",
       " {'anger',\n",
       "  'contempt',\n",
       "  'disgust',\n",
       "  'embarrassment',\n",
       "  'envy',\n",
       "  'fear',\n",
       "  'guilt',\n",
       "  'hate',\n",
       "  'interest',\n",
       "  'jealousy',\n",
       "  'joy',\n",
       "  'love',\n",
       "  'none',\n",
       "  'sadness',\n",
       "  'shame',\n",
       "  'surprise'},\n",
       " 6,\n",
       " 16)"
      ]
     },
     "execution_count": 115,
     "metadata": {},
     "output_type": "execute_result"
    }
   ],
   "source": [
    "if dataset_name == 'meme_retrieval_data' or dataset_name == 'memecap':\n",
    "    literary_device = set(\"sarcasm, allegory, alliteration, allusion, amplification, anagram, analogy, anthropomorphism, antithesis, chiasmus, circumlocution, euphemism, hyperbole, imagery, metaphor, onomatopoeia, oxymoron, paradox, personification, portmanteau, pun, satire, simile, symbolism, none\".split(', '))\n",
    "elif dataset_name == 'figmemes':\n",
    "    literary_device = set(\"allusion, exaggeration, irony, anthrop, metaphor, contrast\".split(', '))\n",
    "\n",
    "emotion_word = set(\"fear, anger, joy, sadness, surprise, disgust, guilt, contempt, shame, embarrassment, envy, jealousy, love, hate, interest, none\".split(', '))\n",
    "literary_device, emotion_word, len(literary_device), len(emotion_word)"
   ]
  },
  {
   "cell_type": "markdown",
   "metadata": {},
   "source": [
    "# Extract responses into JSON objects "
   ]
  },
  {
   "cell_type": "code",
   "execution_count": 116,
   "metadata": {},
   "outputs": [
    {
     "name": "stdout",
     "output_type": "stream",
     "text": [
      "An error has occored when parsing the string\n",
      "10 0 10\n",
      "set()\n"
     ]
    },
    {
     "data": {
      "text/plain": [
       "{'image_dir': './data/figmemes/images/1464007930878.jpg',\n",
       " 'prompt': 'Tasks: \\n1. Extract the texts on the meme;\\n2. Explain the meme from three perspectives: the humor of the meme; how the meme conveys the humor; And, the emotion behind the meme;\\n3. Choose suitable literary devices from the given candidates;\\n4. Choose suitable emotional words from the given candidates\\n\\nThe context of the meme: \"{about}\"\\n\\nExamples of explanation of the meme:\\n1. The meme uses a popular internet meme format featuring an image of a young man with a dazed expression. The embedded text humorously plays on the dual meaning of \"Python,\" referring both to the programming language and the snake. The joke is that the person stopped using Python (the programming language) because it \"bit\" them, playing on the literal meaning of a python (the snake) biting someone.\\n2.  The meme features a humorous image of Tom the cat from the classic \"Tom and Jerry\" cartoon shaking hands with two small characters (likely Jerry and another small character). The text above the image reads: \"Me and my 2 regular followers who always likes my posts.\" This meme humorously highlights the small but loyal audience that some social media users experience, where they feel grateful for the consistent support of a few followers.\\n\\nEmotion labels: anger, fear, surprise, sadness, disgust, contempt, happiness, none\\n\\nLiterary devices: \\n**Allusion**: Referencing historical events, figures, symbols, art, literature or pop culture.\\n \\n**Exaggeration**: Similar to Hyperbole. Use of exaggerated terms for emphasis, including exaggerated visuals (including unrealistic features portraying minorities).\\n \\n**Irony**: Similar to Sarcasm. Use of words that convey a meaning that is the opposite of its usual meaning/mock someone or something with caustic or bitter use of words.\\n  \\n**Anthropomorphism**: Similar to Zoomorphism. Attributing human qualities to animals, objects, natural phenomena or abstract concepts or applying animal characteristics to humans in a way that conveys additional meaning. \\n \\n**Metaphor**: Similar to Simile. Implicit or explicit comparisons between two items or groups, attributing the properties of one thing to another. This category includes dehumanizing metaphors. \\n \\n**Contrast**: Comparison between two positions/people/objects (usually side-by-side).\\n**None**: No literary devices are applied to the meme.\\n\\nNow, based on the meme (image), the context of the meme, those examples, the emotion labels, and the definition of literary devices, write down the detected text and explanation of the meme. Then, choose one or multiple appropriate literary devices and emotional words. Follow the JSON format: \\n{\\n\"detected text\": \"string\",\\n\"explanation\": \"a string\",\\n\"emotion\": \"a string\",\\n\"literary device\": [\"word 1\", \"word 2\", ],\\n\"emotion word\": [\"word 1\", \"word 2\", ]\\n}',\n",
       " 'detected text': '',\n",
       " 'explanation': 'The image features a person dressed in a Peepo meme costume, a muscular version of the Pepe the Frog character, which has become a popular internet meme. The humor in this meme might come from the juxtaposition of the traditionally meek and expressive Pepe face with an exaggerated muscular body. This contrast adds a layer of irony as it defies the usual depiction of Pepe, creating a humorous and unexpected image. The emotion behind the meme could be seen as highlighting the humorous and absurd aspects of internet culture and the way it morphs characters into various forms for comedic effect.',\n",
       " 'emotion': 'happiness',\n",
       " 'literary device': ['irony', 'contrast'],\n",
       " 'emotion word': ['humor', 'surprise']}"
      ]
     },
     "execution_count": 116,
     "metadata": {},
     "output_type": "execute_result"
    }
   ],
   "source": [
    "import re\n",
    "import json\n",
    "correction_map = {'anthropomorphism':'anthrop', 'dehumanizing metaphor': 'metaphor'}\n",
    "\n",
    "counter = 0\n",
    "meme_annotations = []\n",
    "invalid_labels = []\n",
    "number_of_invalid_labels = 0\n",
    "for i, meme in enumerate(meme_configs):\n",
    "    new_meme_conf = {}\n",
    "    new_meme_conf[\"image_dir\"] = meme[\"image_dir\"]\n",
    "    new_meme_conf[\"prompt\"] = meme[\"prompt\"]\n",
    "    x = re.sub(\"```.*\\n\", \"\", meme['respond'])\n",
    "    x = re.sub(\"```\", \"\", x)\n",
    "    x = x.strip()\n",
    "    # print(x)\n",
    "    try:\n",
    "        y = json.loads(x)\n",
    "        if \"literary device\" in y.keys():\n",
    "            y[\"literary device\"] = [device.lower() for device in y[\"literary device\"] if device.lower() != 'none']\n",
    "            # y[\"literary device\"].remove('none')\n",
    "            valid = True\n",
    "            for idx in range(len(y['literary device'])):\n",
    "                device = y['literary device'][idx]\n",
    "                if device not in literary_device:\n",
    "                    if device in correction_map.keys():\n",
    "                        y['literary device'][idx] = correction_map[device]\n",
    "                        # print('Correcttion: ', device, correction_map[device])\n",
    "                    else:\n",
    "                        valid = False   \n",
    "                        print(y['literary device'])\n",
    "                        invalid_labels.append(device)\n",
    "            if valid:\n",
    "                counter += 1\n",
    "            else:\n",
    "                number_of_invalid_labels += 1\n",
    "        \n",
    "        new_meme_conf.update(y) # Merge two dictionaries\n",
    "        meme_annotations.append(new_meme_conf)\n",
    "    except:\n",
    "        print(\"An error has occored when parsing the string\")\n",
    "        pass \n",
    "    \n",
    "'''\n",
    "{\n",
    "  \"detected text\": \"My Brother's Husband Is the Hottest Family-Friendly Manga Ever Made by Chase Burns · Feb 11, 2020 at 1:00 pm KIDS ARE LUCKY. THEY DON'T HAVE TO THINK ABOUT THAT STUFF.\",\n",
    "  \"meaning of the meme\": \"The meme showcases a perceived irony where a manga titled 'My Brother's Husband,' featuring themes that might not traditionally be considered family-friendly, is touted as the 'hottest family-friendly manga.' It draws attention to the juxtaposition between the term 'family-friendly' and the content of the manga which deals with complex social issues such as same-sex relationships. The character's dialog emphasizes the innocence of children who do not have to grapple with the social complexities explored in the manga.\",\n",
    "  \"literary device\": [\"Irony\", \"Contrast\"]\n",
    "}\n",
    "'''\n",
    "print(counter, number_of_invalid_labels, len(meme_annotations))\n",
    "print(set(invalid_labels))\n",
    "meme_annotations[0]"
   ]
  },
  {
   "cell_type": "code",
   "execution_count": 117,
   "metadata": {},
   "outputs": [
    {
     "name": "stdout",
     "output_type": "stream",
     "text": [
      "10\n"
     ]
    }
   ],
   "source": [
    "output_file_name = ''\n",
    "if dataset_name == 'meme_retrieval_data':\n",
    "    output_file_name = f'../data/meme_retrieval_data/filtered_meme_configs{file_suffix}.json'\n",
    "elif dataset_name == 'figmemes':\n",
    "    output_file_name = f'../data/figmemes/filtered_meme_configs{file_suffix}.json'\n",
    "elif  dataset_name == 'memecap':\n",
    "    output_file_name = f'../data/memecap/filtered_meme_configs{file_suffix}.json'\n",
    "\n",
    "# Save JSON file\n",
    "print(len(meme_annotations))\n",
    "with open(output_file_name, \"w\") as outfile: \n",
    "      json.dump(meme_annotations, outfile, indent=4)"
   ]
  },
  {
   "cell_type": "markdown",
   "metadata": {},
   "source": [
    "# Statistics and post-check"
   ]
  },
  {
   "cell_type": "code",
   "execution_count": 118,
   "metadata": {},
   "outputs": [],
   "source": [
    "def str_length_statistics(dataset):\n",
    "    # ic_label_length = []\n",
    "    dt_label_length = []\n",
    "    mc_label_length = []\n",
    "    ld_label_length = []\n",
    "    # ew_label_length = []\n",
    "\n",
    "    for ite in dataset:\n",
    "        dt_label_length.append(len(ite['detected text'].split()))\n",
    "        mc_label_length.append(len(ite['meaning of the meme'].split()))\n",
    "        ld_label_length.append(len(ite['literary device']))\n",
    "\n",
    "    print(set(dt_label_length))\n",
    "    print(set(mc_label_length))\n",
    "    print(set(ld_label_length)) # Good, only 1\n",
    "\n",
    "    import pandas as pd\n",
    "    import matplotlib.pyplot as plt\n",
    "    # Create a DataFrame from the lists\n",
    "    data = {\n",
    "        'detected text': dt_label_length,\n",
    "        'meaning of the meme': mc_label_length,\n",
    "        'literary device': ld_label_length,\n",
    "    }\n",
    "    df = pd.DataFrame(data)\n",
    "\n",
    "    # Display the DataFrame\n",
    "    print(df)\n",
    "\n",
    "    # Plot a boxplot\n",
    "    plt.figure(figsize=(10, 6))\n",
    "    df.boxplot()\n",
    "    plt.title('The distribution of the lengths of responses')\n",
    "    plt.ylabel('No. of words')\n",
    "    plt.show()\n"
   ]
  },
  {
   "cell_type": "code",
   "execution_count": 119,
   "metadata": {},
   "outputs": [],
   "source": [
    "# print(len(meme_annotations))\n",
    "# str_length_statistics(meme_annotations)"
   ]
  },
  {
   "cell_type": "markdown",
   "metadata": {},
   "source": [
    "# Label distribution"
   ]
  },
  {
   "cell_type": "code",
   "execution_count": 120,
   "metadata": {},
   "outputs": [
    {
     "name": "stdout",
     "output_type": "stream",
     "text": [
      "defaultdict(<function <lambda> at 0x7fb1d402bd00>,\n",
      "            {   'allusion': 3,\n",
      "                'anthrop': 2,\n",
      "                'contrast': 9,\n",
      "                'exaggeration': 4,\n",
      "                'irony': 5})\n"
     ]
    }
   ],
   "source": [
    "from collections import defaultdict\n",
    "\n",
    "literary_device_label_dict = defaultdict(lambda: 0)\n",
    "# emotion_label_dict= defaultdict(lambda: 0)\n",
    "\n",
    "for idx, meme_conf in enumerate(meme_annotations):\n",
    "    if 'literary device' in meme_conf.keys(): \n",
    "        for device in meme_conf['literary device']:\n",
    "            literary_device_label_dict[device] += 1\n",
    "pp.pprint(literary_device_label_dict)"
   ]
  },
  {
   "cell_type": "code",
   "execution_count": 123,
   "metadata": {},
   "outputs": [
    {
     "data": {
      "image/png": "[encoded data removed]",
      "text/plain": [
       "<Figure size 640x480 with 1 Axes>"
      ]
     },
     "metadata": {},
     "output_type": "display_data"
    }
   ],
   "source": [
    "import matplotlib.pyplot as plt\n",
    "\n",
    "# Extract the keys and values from the dictionary\n",
    "my_keys = list(literary_device_label_dict.keys())\n",
    "my_keys.sort()\n",
    "\n",
    "keys = my_keys\n",
    "values = [literary_device_label_dict[i] for i in my_keys]\n",
    "\n",
    "# Plot a bar chart\n",
    "# plt.figure(figsize=(10, 6))\n",
    "plt.bar(keys, values, color='skyblue', edgecolor='black')\n",
    "plt.xticks(rotation=90)\n",
    "\n",
    "plt.title('The Numbers of Literary Device Labels')\n",
    "plt.xlabel('Literary Device')\n",
    "plt.ylabel('Counts')\n",
    "plt.grid(True, axis='y', linestyle='--', alpha=0.7)\n",
    "plt.show()\n"
   ]
  }
 ],
 "metadata": {
  "kernelspec": {
   "display_name": "base",
   "language": "python",
   "name": "python3"
  },
  "language_info": {
   "codemirror_mode": {
    "name": "ipython",
    "version": 3
   },
   "file_extension": ".py",
   "mimetype": "text/x-python",
   "name": "python",
   "nbconvert_exporter": "python",
   "pygments_lexer": "ipython3",
   "version": "3.10.14"
  }
 },
 "nbformat": 4,
 "nbformat_minor": 2
}
