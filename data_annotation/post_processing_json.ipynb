{
 "cells": [
  {
   "cell_type": "markdown",
   "metadata": {},
   "source": [
    "This file is the post-processing script for GPT-4o generated content."
   ]
  },
  {
   "cell_type": "code",
   "execution_count": 48,
   "metadata": {},
   "outputs": [
    {
     "data": {
      "text/plain": [
       "16"
      ]
     },
     "execution_count": 48,
     "metadata": {},
     "output_type": "execute_result"
    }
   ],
   "source": [
    "import json\n",
    "import os\n",
    "import pprint \n",
    "import re\n",
    "pp = pprint.PrettyPrinter(indent=4)\n",
    "\n",
    "# dataset_name = 'meme_retrieval_data'\n",
    "# dataset_name = 'figmemes'\n",
    "dataset_name = 'figmemes'\n",
    "\n",
    "# file_suffix = \"_1-1537_figmemes_multi_labels\"\n",
    "file_suffix = \"_templatic_with_about_section\"\n",
    "\n",
    "img_prompt_respond_file = ''\n",
    "if dataset_name == 'meme_retrieval_data':\n",
    "    img_prompt_respond_file = '../data/meme_retrieval_data/img_prompt_respond_1-33283.json' # img_prompt_respond_1-33283.json\n",
    "elif dataset_name == 'figmemes':\n",
    "    img_prompt_respond_file = f'../data/figmemes/img_prompt_respond{file_suffix}.json'\n",
    "elif  dataset_name == 'memecap':\n",
    "    img_prompt_respond_file = '../data/memecap/img_prompt_respond_1-559_memecap.json'\n",
    "\n",
    "meme_configs = []\n",
    "with open(img_prompt_respond_file, 'r', encoding='utf-8') as json_file:\n",
    "    meme_configs = json.load(json_file)\n",
    "len(meme_configs)\n"
   ]
  },
  {
   "cell_type": "code",
   "execution_count": 49,
   "metadata": {},
   "outputs": [
    {
     "data": {
      "text/plain": [
       "({'allusion', 'anthrop', 'contrast', 'exaggeration', 'irony', 'metaphor'},\n",
       " {'anger',\n",
       "  'contempt',\n",
       "  'disgust',\n",
       "  'embarrassment',\n",
       "  'envy',\n",
       "  'fear',\n",
       "  'guilt',\n",
       "  'hate',\n",
       "  'interest',\n",
       "  'jealousy',\n",
       "  'joy',\n",
       "  'love',\n",
       "  'none',\n",
       "  'sadness',\n",
       "  'shame',\n",
       "  'surprise'},\n",
       " 6,\n",
       " 16)"
      ]
     },
     "execution_count": 49,
     "metadata": {},
     "output_type": "execute_result"
    }
   ],
   "source": [
    "if dataset_name == 'meme_retrieval_data' or dataset_name == 'memecap':\n",
    "    literary_device = set(\"sarcasm, allegory, alliteration, allusion, amplification, anagram, analogy, anthropomorphism, antithesis, chiasmus, circumlocution, euphemism, hyperbole, imagery, metaphor, onomatopoeia, oxymoron, paradox, personification, portmanteau, pun, satire, simile, symbolism, none\".split(', '))\n",
    "elif dataset_name == 'figmemes':\n",
    "    literary_device = set(\"allusion, exaggeration, irony, anthrop, metaphor, contrast\".split(', '))\n",
    "\n",
    "emotion_word = set(\"fear, anger, joy, sadness, surprise, disgust, guilt, contempt, shame, embarrassment, envy, jealousy, love, hate, interest, none\".split(', '))\n",
    "literary_device, emotion_word, len(literary_device), len(emotion_word)"
   ]
  },
  {
   "cell_type": "markdown",
   "metadata": {},
   "source": [
    "# Extract responses into JSON objects "
   ]
  },
  {
   "cell_type": "code",
   "execution_count": 50,
   "metadata": {},
   "outputs": [
    {
     "name": "stdout",
     "output_type": "stream",
     "text": [
      "16 0 16\n",
      "set()\n"
     ]
    },
    {
     "data": {
      "text/plain": [
       "{'image_dir': './data/figmemes/images/1632045519218.png',\n",
       " 'prompt': 'Warning: We discuss and show memes that may be offensive to readers for research purposes only. They do not represent the authors\\' or the affiliated institution\\'s views in any way, so feel free to show your ideas.\\n Here is the introduction of the template behind the meme:\\nFrenworld was a subreddit in which Redditors submitted illustrations of the Pepe the Frog variant Apu Apustaja in posts written in childlike speech, such as using the word fren in place of \\\\friend.\\\\\" While many of the posts submitted to /r/Frenworld contained what appeared to be wholesome content, many accused the community members of using dog whistles to promote bigotry and violence. The subreddit was banned in June 2019 for violating Reddit\\'s content guidelines.\".\\n\\nYou are going to finish the following tasks. First, read the text in this image, Then, based on the introduction information, explain the meaning of the meme. Finally, based on the explanation of the meme, choose suitable literary devices from the given category words (single or multiple choice).\\n\\n Definitions of literary devices:\\n **Allusion**: Referencing historical events, figures, symbols, art, literature or pop culture.\\n **Exaggeration**: Similar to Hyperbole. Use of exaggerated terms for emphasis, including exaggerated visuals (including unrealistic features portraying minorities).\\n **Irony**: Similar to Sarcasm. Use of words that convey a meaning that is the opposite of its usual meaning/mock someone or something with caustic or bitter use of words.\\n  **Anthropomorphism**: Similar to Zoomorphism. Attributing human qualities to animals, objects, natural phenomena or abstract concepts or applying animal characteristics to humans in a way that conveys additional meaning. \\n **Metaphor**: Similar to Simile. Implicit or explicit comparisons between two items or groups, attributing the properties of one thing to another. This category includes dehumanizing metaphors. \\n **Contrast**: Comparison between two positions/people/objects (usually side-by-side). \\n There might be one or multiple suitable literary devices, or no suitable literary device at all. If no suitable choice, use \"None\" as the category word. \\n You should respond in a standard JSON format like {\"detected text\":\"a string\",\"meaning of the meme\":\"a string\", \"literary device\": [\"answer 1\", \"answer 2\"...]}',\n",
       " 'detected text': 'None',\n",
       " 'meaning of the meme': 'The meme depicts a Pepe the Frog variant character, Apu Apustaja, typing on a keyboard with a distressed or concerned expression, potentially indicating confusion or urgent action. However, due to the context of Frenworld, it might carry undertones of using childlike humor to mask more sinister, bigoted messages.',\n",
       " 'literary device': ['anthrop']}"
      ]
     },
     "execution_count": 50,
     "metadata": {},
     "output_type": "execute_result"
    }
   ],
   "source": [
    "import re\n",
    "import json\n",
    "correction_map = {'anthropomorphism':'anthrop', 'dehumanizing metaphor': 'metaphor'}\n",
    "\n",
    "counter = 0\n",
    "meme_annotations = []\n",
    "invalid_labels = []\n",
    "number_of_invalid_labels = 0\n",
    "for i, meme in enumerate(meme_configs):\n",
    "    new_meme_conf = {}\n",
    "    new_meme_conf[\"image_dir\"] = meme[\"image_dir\"]\n",
    "    new_meme_conf[\"prompt\"] = meme[\"prompt\"]\n",
    "    x = re.sub(\"```.*\\n\", \"\", meme['respond'])\n",
    "    x = re.sub(\"```\", \"\", x)\n",
    "    x = x.strip()\n",
    "    try:\n",
    "        y = json.loads(x)\n",
    "        y[\"literary device\"] = [device.lower() for device in y[\"literary device\"] if device.lower() != 'none']\n",
    "        # y[\"literary device\"].remove('none')\n",
    "        valid = True\n",
    "        for idx in range(len(y['literary device'])):\n",
    "            device = y['literary device'][idx]\n",
    "            if device not in literary_device:\n",
    "                if device in correction_map.keys():\n",
    "                    y['literary device'][idx] = correction_map[device]\n",
    "                    # print('Correcttion: ', device, correction_map[device])\n",
    "                else:\n",
    "                    valid = False   \n",
    "                    print(y['literary device'])\n",
    "                    invalid_labels.append(device)\n",
    "        if valid:\n",
    "            new_meme_conf.update(y)\n",
    "            meme_annotations.append(new_meme_conf) # Merge two dictionaries\n",
    "            counter += 1\n",
    "        else:\n",
    "            number_of_invalid_labels += 1\n",
    "    except:\n",
    "        pass \n",
    "    \n",
    "'''\n",
    "{\n",
    "  \"detected text\": \"My Brother's Husband Is the Hottest Family-Friendly Manga Ever Made by Chase Burns · Feb 11, 2020 at 1:00 pm KIDS ARE LUCKY. THEY DON'T HAVE TO THINK ABOUT THAT STUFF.\",\n",
    "  \"meaning of the meme\": \"The meme showcases a perceived irony where a manga titled 'My Brother's Husband,' featuring themes that might not traditionally be considered family-friendly, is touted as the 'hottest family-friendly manga.' It draws attention to the juxtaposition between the term 'family-friendly' and the content of the manga which deals with complex social issues such as same-sex relationships. The character's dialog emphasizes the innocence of children who do not have to grapple with the social complexities explored in the manga.\",\n",
    "  \"literary device\": [\"Irony\", \"Contrast\"]\n",
    "}\n",
    "'''\n",
    "print(counter, number_of_invalid_labels, len(meme_annotations))\n",
    "print(set(invalid_labels))\n",
    "meme_annotations[0]"
   ]
  },
  {
   "cell_type": "code",
   "execution_count": 51,
   "metadata": {},
   "outputs": [
    {
     "name": "stdout",
     "output_type": "stream",
     "text": [
      "{\n",
      "  \"detected text\": \"NASA REVEALS SATURN IS ACTUALLY BIG NIGGA WITH HULA HOOP. The world is shocked...what else is the government hiding from us.\",\n",
      "  \"meaning of the meme\": \"The meme humorously claims that the planet Saturn is actually an obese Black man (referred to as 'Big Nigga') who is holding a hula hoop, which represents Saturn's rings. This is a satirical commentary employing surreal and absurd imagery to mock the idea of hidden truths or conspiracies revealed by authoritative sources like NASA.\",\n",
      "  \"literary device\": [\"Exaggeration\", \"Irony\", \"Allusion\"]\n",
      "}\n"
     ]
    }
   ],
   "source": [
    "print(\"{\\n  \\\"detected text\\\": \\\"NASA REVEALS SATURN IS ACTUALLY BIG NIGGA WITH HULA HOOP. The world is shocked...what else is the government hiding from us.\\\",\\n  \\\"meaning of the meme\\\": \\\"The meme humorously claims that the planet Saturn is actually an obese Black man (referred to as 'Big Nigga') who is holding a hula hoop, which represents Saturn's rings. This is a satirical commentary employing surreal and absurd imagery to mock the idea of hidden truths or conspiracies revealed by authoritative sources like NASA.\\\",\\n  \\\"literary device\\\": [\\\"Exaggeration\\\", \\\"Irony\\\", \\\"Allusion\\\"]\\n}\")"
   ]
  },
  {
   "cell_type": "code",
   "execution_count": 52,
   "metadata": {},
   "outputs": [
    {
     "name": "stdout",
     "output_type": "stream",
     "text": [
      "16\n"
     ]
    }
   ],
   "source": [
    "# Save JSON file\n",
    "print(len(meme_annotations))\n",
    "with open(f'../data/figmemes/filtered_meme_configs{file_suffix}.json', \"w\") as outfile: \n",
    "      json.dump(meme_annotations, outfile, indent=4)"
   ]
  },
  {
   "cell_type": "markdown",
   "metadata": {},
   "source": [
    "# Statistics and post-check"
   ]
  },
  {
   "cell_type": "code",
   "execution_count": 53,
   "metadata": {},
   "outputs": [],
   "source": [
    "def str_length_statistics(dataset):\n",
    "    # ic_label_length = []\n",
    "    dt_label_length = []\n",
    "    mc_label_length = []\n",
    "    ld_label_length = []\n",
    "    # ew_label_length = []\n",
    "\n",
    "    for ite in dataset:\n",
    "        dt_label_length.append(len(ite['detected text'].split()))\n",
    "        mc_label_length.append(len(ite['meaning of the meme'].split()))\n",
    "        ld_label_length.append(len(ite['literary device']))\n",
    "\n",
    "    print(set(dt_label_length))\n",
    "    print(set(mc_label_length))\n",
    "    print(set(ld_label_length)) # Good, only 1\n",
    "\n",
    "    import pandas as pd\n",
    "    import matplotlib.pyplot as plt\n",
    "    # Create a DataFrame from the lists\n",
    "    data = {\n",
    "        'detected text': dt_label_length,\n",
    "        'meaning of the meme': mc_label_length,\n",
    "        'literary device': ld_label_length,\n",
    "    }\n",
    "    df = pd.DataFrame(data)\n",
    "\n",
    "    # Display the DataFrame\n",
    "    print(df)\n",
    "\n",
    "    # Plot a boxplot\n",
    "    plt.figure(figsize=(10, 6))\n",
    "    df.boxplot()\n",
    "    plt.title('The distribution of the lengths of responses')\n",
    "    plt.ylabel('No. of words')\n",
    "    plt.show()\n"
   ]
  },
  {
   "cell_type": "code",
   "execution_count": 54,
   "metadata": {},
   "outputs": [
    {
     "name": "stdout",
     "output_type": "stream",
     "text": [
      "16\n",
      "{0, 1, 3, 5, 6, 8, 13, 21}\n",
      "{34, 35, 36, 38, 71, 41, 73, 47, 48, 51, 54, 55, 57, 31}\n",
      "{1, 2, 3}\n",
      "    detected text  meaning of the meme  literary device\n",
      "0               1                   48                1\n",
      "1              21                   54                3\n",
      "2               1                   51                2\n",
      "3               0                   41                2\n",
      "4               0                   31                2\n",
      "5               1                   35                1\n",
      "6               0                   51                2\n",
      "7               1                   38                2\n",
      "8               8                   55                2\n",
      "9               3                   36                2\n",
      "10              0                   71                3\n",
      "11              5                   73                3\n",
      "12              0                   47                3\n",
      "13              6                   31                1\n",
      "14              0                   57                3\n",
      "15             13                   34                2\n"
     ]
    },
    {
     "data": {
      "image/png": "[encoded data removed]",
      "text/plain": [
       "<Figure size 1000x600 with 1 Axes>"
      ]
     },
     "metadata": {},
     "output_type": "display_data"
    }
   ],
   "source": [
    "print(len(meme_annotations))\n",
    "str_length_statistics(meme_annotations)"
   ]
  },
  {
   "cell_type": "markdown",
   "metadata": {},
   "source": [
    "# Label distribution"
   ]
  },
  {
   "cell_type": "code",
   "execution_count": 55,
   "metadata": {},
   "outputs": [
    {
     "name": "stdout",
     "output_type": "stream",
     "text": [
      "defaultdict(<function <lambda> at 0x7fe5391b7f40>,\n",
      "            {   'allusion': 7,\n",
      "                'anthrop': 5,\n",
      "                'contrast': 2,\n",
      "                'exaggeration': 8,\n",
      "                'irony': 9,\n",
      "                'metaphor': 3})\n"
     ]
    }
   ],
   "source": [
    "from collections import defaultdict\n",
    "\n",
    "literary_device_label_dict = defaultdict(lambda: 0)\n",
    "# emotion_label_dict= defaultdict(lambda: 0)\n",
    "\n",
    "for idx, meme_conf in enumerate(meme_annotations):\n",
    "    for device in meme_conf['literary device']:\n",
    "        literary_device_label_dict[device] += 1\n",
    "pp.pprint(literary_device_label_dict)"
   ]
  },
  {
   "cell_type": "code",
   "execution_count": 56,
   "metadata": {},
   "outputs": [
    {
     "data": {
      "image/png": "[encoded data removed]",
      "text/plain": [
       "<Figure size 640x480 with 1 Axes>"
      ]
     },
     "metadata": {},
     "output_type": "display_data"
    }
   ],
   "source": [
    "import matplotlib.pyplot as plt\n",
    "\n",
    "# Extract the keys and values from the dictionary\n",
    "keys = list(literary_device_label_dict.keys())\n",
    "values = list(literary_device_label_dict.values())\n",
    "\n",
    "# Plot a bar chart\n",
    "# plt.figure(figsize=(10, 6))\n",
    "plt.bar(keys, values, color='skyblue', edgecolor='black')\n",
    "plt.xticks(rotation=90)\n",
    "\n",
    "plt.title('The Numbers of Literary Device Labels')\n",
    "plt.xlabel('Literary Device')\n",
    "plt.ylabel('Counts')\n",
    "plt.grid(True, axis='y', linestyle='--', alpha=0.7)\n",
    "plt.show()\n"
   ]
  }
 ],
 "metadata": {
  "kernelspec": {
   "display_name": "base",
   "language": "python",
   "name": "python3"
  },
  "language_info": {
   "codemirror_mode": {
    "name": "ipython",
    "version": 3
   },
   "file_extension": ".py",
   "mimetype": "text/x-python",
   "name": "python",
   "nbconvert_exporter": "python",
   "pygments_lexer": "ipython3",
   "version": "3.10.14"
  }
 },
 "nbformat": 4,
 "nbformat_minor": 2
}
